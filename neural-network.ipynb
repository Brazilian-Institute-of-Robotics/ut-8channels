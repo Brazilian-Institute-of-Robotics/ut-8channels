{
 "cells": [
  {
   "cell_type": "code",
   "execution_count": 1,
   "metadata": {},
   "outputs": [
    {
     "name": "stderr",
     "output_type": "stream",
     "text": [
      "2023-01-13 19:11:31.864998: I tensorflow/core/platform/cpu_feature_guard.cc:193] This TensorFlow binary is optimized with oneAPI Deep Neural Network Library (oneDNN) to use the following CPU instructions in performance-critical operations:  AVX2 AVX512F AVX512_VNNI FMA\n",
      "To enable them in other operations, rebuild TensorFlow with the appropriate compiler flags.\n",
      "2023-01-13 19:11:31.953507: I tensorflow/core/util/port.cc:104] oneDNN custom operations are on. You may see slightly different numerical results due to floating-point round-off errors from different computation orders. To turn them off, set the environment variable `TF_ENABLE_ONEDNN_OPTS=0`.\n",
      "2023-01-13 19:11:31.956249: W tensorflow/compiler/xla/stream_executor/platform/default/dso_loader.cc:64] Could not load dynamic library 'libcudart.so.11.0'; dlerror: libcudart.so.11.0: cannot open shared object file: No such file or directory\n",
      "2023-01-13 19:11:31.956258: I tensorflow/compiler/xla/stream_executor/cuda/cudart_stub.cc:29] Ignore above cudart dlerror if you do not have a GPU set up on your machine.\n",
      "2023-01-13 19:11:32.343994: W tensorflow/compiler/xla/stream_executor/platform/default/dso_loader.cc:64] Could not load dynamic library 'libnvinfer.so.7'; dlerror: libnvinfer.so.7: cannot open shared object file: No such file or directory\n",
      "2023-01-13 19:11:32.344047: W tensorflow/compiler/xla/stream_executor/platform/default/dso_loader.cc:64] Could not load dynamic library 'libnvinfer_plugin.so.7'; dlerror: libnvinfer_plugin.so.7: cannot open shared object file: No such file or directory\n",
      "2023-01-13 19:11:32.344050: W tensorflow/compiler/tf2tensorrt/utils/py_utils.cc:38] TF-TRT Warning: Cannot dlopen some TensorRT libraries. If you would like to use Nvidia GPU with TensorRT, please make sure the missing libraries mentioned above are installed properly.\n"
     ]
    }
   ],
   "source": [
    "import pandas as pd\n",
    "import numpy as np\n",
    "import matplotlib.pyplot as plt\n",
    "import scipy\n",
    "from ipywidgets.widgets import interact\n",
    "import os\n",
    "from tensorflow import keras\n",
    "import time\n",
    "from sklearn.model_selection import train_test_split\n",
    "from sklearn.metrics import ConfusionMatrixDisplay, accuracy_score, balanced_accuracy_score, f1_score\n",
    "import tensorflow as tf"
   ]
  },
  {
   "cell_type": "code",
   "execution_count": 2,
   "metadata": {},
   "outputs": [],
   "source": [
    "class Ut8channels:\n",
    "    '''\n",
    "    Class that read unstructured bytes sequence and outputs them in a structured way.\n",
    "    ''' \n",
    "    SENSORS_NUMBER = 8  \n",
    "    HEADER_BYTES = 4\n",
    "    SENSOR_BYTES = 1\n",
    "    CTP_BYTES = 3\n",
    "    ENCODER_BYTES = 3\n",
    "    DATA_BYTES = 1017 # for 1 kB A-scan length\n",
    "    # DATA_BYTES = 2041 # for 2 kB A-scan length\n",
    "    MAX_BYTE_VALUE = 0xFF\n",
    "    MIN_BYTE_VALUE = 0x00\n",
    "\n",
    "    def __init__(self, filename):\n",
    "            self.filename = filename\n",
    "            self._data = self.read_utd()\n",
    "\n",
    "    def read_utd(self):\n",
    "        '''\n",
    "        This function reads the ut raw file and returns a list of lists with a-scans.\n",
    "\n",
    "        '''\n",
    "        data = [[] for _ in range(Ut8channels.SENSORS_NUMBER)]\n",
    "        raw_data = open(self.filename, 'rb')\n",
    "        while True:  \n",
    "            header_bytes = raw_data.read(Ut8channels.HEADER_BYTES)\n",
    "            sensor_bytes = raw_data.read(Ut8channels.SENSOR_BYTES)\n",
    "            ctp_bytes = raw_data.read(Ut8channels.CTP_BYTES) \n",
    "            encoder_bytes = raw_data.read(Ut8channels.ENCODER_BYTES)\n",
    "            data_bytes = raw_data.read(Ut8channels.DATA_BYTES)\n",
    "            data_array = np.frombuffer(data_bytes, dtype = np.uint8) # Interpret a buffer (bytes) as a 1-dimensional array\n",
    "            output_array = (2*((data_array - Ut8channels.MIN_BYTE_VALUE)/\n",
    "                (Ut8channels.MAX_BYTE_VALUE - Ut8channels.MIN_BYTE_VALUE))-1).round(2)# Data normalization [-1, 1]\n",
    "            try:\n",
    "                data[ord(sensor_bytes)].append(output_array) # Get the number that represents the sensor\n",
    "            except:\n",
    "                break\n",
    "\n",
    "        # fill missing values with array of zeros so all sensors have the same number of ascans\n",
    "        max_length = max([len(sensor) for sensor in data]) \n",
    "        fill = [np.zeros(Ut8channels.DATA_BYTES)] * max_length\n",
    "        data = [sensor[:max_length] + fill[len(sensor):] for sensor in data] \n",
    "\n",
    "        df = pd.DataFrame(data).transpose()\n",
    "        df.columns = list(range(1, Ut8channels.SENSORS_NUMBER+1)) # 1 to 8\n",
    "        # df = df.fillna(value=0) doesn't fill with np array --'\n",
    "        return df\n",
    "\n",
    "    @property\n",
    "    def data(self):\n",
    "        return self._data\n",
    "\n",
    "    def find_relevant_peaks(self, ascan, distance=50, prominence=0.2):\n",
    "        peaks, _ = scipy.signal.find_peaks(ascan, distance=distance, prominence=prominence)\n",
    "        return peaks\n",
    "\n",
    "    def plot_ascan(self, sensor, index, show_peaks=False):\n",
    "        plt.figure(figsize=(6,4), dpi=150)\n",
    "        ascan = self.data[sensor][index]\n",
    "        plt.ylim(-1.2, 1.2)\n",
    "        color = None if any(ascan) else 'red' # if ascan was filled with zeros to equalize numbers of ascans, than it is red\n",
    "        plt.plot(ascan, color=color)\n",
    "        if show_peaks:\n",
    "            peaks = self.find_relevant_peaks(ascan)\n",
    "            plt.scatter(peaks, ascan[peaks], marker=\"x\", color='orange')    \n",
    "\n",
    "    def plot_interactive_ascan(self):\n",
    "        @interact(sensor=(1, Ut8channels.SENSORS_NUMBER), index=(0, len(self.data)-1), show_peaks=(0,1))\n",
    "        def _plot_interactive_ascan(sensor, index, show_peaks):\n",
    "            self.plot_ascan(sensor=sensor, index=index, show_peaks=show_peaks)"
   ]
  },
  {
   "cell_type": "code",
   "execution_count": 3,
   "metadata": {},
   "outputs": [],
   "source": [
    "ret1_face1_utd1 = Ut8channels('dataset/RET-001/Face1/RET-001-Face1-001.utd')"
   ]
  },
  {
   "cell_type": "code",
   "execution_count": 6,
   "metadata": {},
   "outputs": [],
   "source": [
    "# ut.data"
   ]
  },
  {
   "cell_type": "code",
   "execution_count": 7,
   "metadata": {},
   "outputs": [],
   "source": [
    "# ut.plot_ascan(sensor=6, index=62, show_peaks=True)"
   ]
  },
  {
   "cell_type": "code",
   "execution_count": 8,
   "metadata": {},
   "outputs": [
    {
     "data": {
      "application/vnd.jupyter.widget-view+json": {
       "model_id": "3ce35e6cd2d34e57b8a1c8d8133d3f68",
       "version_major": 2,
       "version_minor": 0
      },
      "text/plain": [
       "interactive(children=(IntSlider(value=4, description='sensor', max=8, min=1), IntSlider(value=62, description=…"
      ]
     },
     "metadata": {},
     "output_type": "display_data"
    }
   ],
   "source": [
    "ret1_face1_utd1.plot_interactive_ascan()"
   ]
  },
  {
   "cell_type": "code",
   "execution_count": 9,
   "metadata": {},
   "outputs": [],
   "source": [
    "ret1_nom_utd1 = Ut8channels('dataset/RET-001/Nomenclatura/RET-001-Nomenclatura-001.utd') # coring (and/or bubble and/or crack)"
   ]
  },
  {
   "cell_type": "code",
   "execution_count": 10,
   "metadata": {},
   "outputs": [
    {
     "data": {
      "application/vnd.jupyter.widget-view+json": {
       "model_id": "cbb70f6b244d47bc8537808e76cb60d8",
       "version_major": 2,
       "version_minor": 0
      },
      "text/plain": [
       "interactive(children=(IntSlider(value=4, description='sensor', max=8, min=1), IntSlider(value=98, description=…"
      ]
     },
     "metadata": {},
     "output_type": "display_data"
    }
   ],
   "source": [
    "ret1_nom_utd1.plot_interactive_ascan()"
   ]
  },
  {
   "cell_type": "code",
   "execution_count": 11,
   "metadata": {},
   "outputs": [],
   "source": [
    "ret10_face1_utd1 = Ut8channels('dataset/RET-010/Face1/RET-010-Face1-001.utd')"
   ]
  },
  {
   "cell_type": "code",
   "execution_count": 12,
   "metadata": {},
   "outputs": [
    {
     "data": {
      "application/vnd.jupyter.widget-view+json": {
       "model_id": "748587c5ecba4b398ef27c049240e48a",
       "version_major": 2,
       "version_minor": 0
      },
      "text/plain": [
       "interactive(children=(IntSlider(value=4, description='sensor', max=8, min=1), IntSlider(value=62, description=…"
      ]
     },
     "metadata": {},
     "output_type": "display_data"
    }
   ],
   "source": [
    "ret10_face1_utd1.plot_interactive_ascan() # no defect"
   ]
  },
  {
   "cell_type": "code",
   "execution_count": 13,
   "metadata": {},
   "outputs": [],
   "source": [
    "ret12_face1_utd1 = Ut8channels('dataset/RET-012/Face1/RET-012-Face1-001.utd')"
   ]
  },
  {
   "cell_type": "code",
   "execution_count": 14,
   "metadata": {},
   "outputs": [
    {
     "data": {
      "application/vnd.jupyter.widget-view+json": {
       "model_id": "bf7e273a5ac54b9ab9db4c7a2335c934",
       "version_major": 2,
       "version_minor": 0
      },
      "text/plain": [
       "interactive(children=(IntSlider(value=4, description='sensor', max=8, min=1), IntSlider(value=65, description=…"
      ]
     },
     "metadata": {},
     "output_type": "display_data"
    }
   ],
   "source": [
    "ret12_face1_utd1.plot_interactive_ascan() # recrystallization"
   ]
  },
  {
   "attachments": {},
   "cell_type": "markdown",
   "metadata": {},
   "source": [
    "- iterate over folders\n",
    "- read each file -> UT8channels\n",
    "    - get data of sensor 6\n",
    "    - filter out ascans that don't have peaks\n",
    "    - append to list [filename, sensor, index, ascan, label]\n",
    "- convert list of lists to dataframe\n",
    "- create model\n",
    "- train model\n",
    "- evaluate model"
   ]
  },
  {
   "cell_type": "code",
   "execution_count": 177,
   "metadata": {},
   "outputs": [],
   "source": [
    "class Ut8channelsTrainer:\n",
    "    VALID_SENSOR = 6\n",
    "    LEFT_OFFSET = 100\n",
    "    RIGHT_OFFSET = 400\n",
    "    LABELS = {\n",
    "        'RET-001': 1, # coring and/or bubble and/or crack\n",
    "        'RET-002': 1, # coring and/or bubble and/or crack\n",
    "        'RET-003': 1, # coring and/or bubble and/or crack\n",
    "        'RET-010': 0, # no defect\n",
    "        'RET-011': 2, # recrystallization\n",
    "        'RET-012': 2, # recrystallization\n",
    "    }\n",
    "\n",
    "    def __init__(self, dataset_dir):\n",
    "        self.dataset_dir = dataset_dir\n",
    "\n",
    "    def read_process_and_annotate_each_ascan(self, cut_ascan=True):\n",
    "        dataset = []\n",
    "        for root, dirs, files in os.walk(self.dataset_dir):\n",
    "            for file in files:\n",
    "                if file.endswith('utd'): # if it is a valid ascan \n",
    "                    filename = os.path.join(root, file)\n",
    "                    ut = Ut8channels(filename)\n",
    "                    valid_ascans = ut.data[Ut8channelsTrainer.VALID_SENSOR] # get only data of sensor 6\n",
    "                    for index, ascan in enumerate(valid_ascans): # get only ascans that had at least one peak detected\n",
    "                        peaks = ut.find_relevant_peaks(ascan)\n",
    "                        if len(peaks) >= 2: # expected at least 2 peaks: one for water, and another for the material\n",
    "                            if cut_ascan:\n",
    "                                left_threshold = max(0, peaks[1] - Ut8channelsTrainer.LEFT_OFFSET) # to not allow negative values\n",
    "                                right_threshold = min(len(ascan), peaks[1] + Ut8channelsTrainer.RIGHT_OFFSET) # to not allow values > len(ascan)\n",
    "                                ascan = ascan[left_threshold:right_threshold] \n",
    "                            label = Ut8channelsTrainer.LABELS[file[0:7]] # to get the corresponding value for 'RET-xxx'\n",
    "                            dataset.append([file, Ut8channelsTrainer.VALID_SENSOR, index, ascan, label])                            \n",
    "        dataset = pd.DataFrame(dataset)\n",
    "        dataset.columns = ['file', 'sensor', 'index', 'ascan', 'label']\n",
    "        return dataset     \n",
    "\n",
    "    def split_data(self, dataset, val_size=0.2, test_size=0.2, print_size=True):\n",
    "        X = dataset['ascan']\n",
    "        y = dataset['label']\n",
    "        X_train, X_test, y_train, y_test = train_test_split(X, y, test_size=val_size, random_state=42)\n",
    "        X_train, X_val, y_train, y_val = train_test_split(X_train, y_train, test_size=test_size, random_state=42)\n",
    "        X_train = tf.convert_to_tensor(list(X_train), dtype=np.float32)\n",
    "        X_val = tf.convert_to_tensor(list(X_val), dtype=np.float32)\n",
    "        X_test = tf.convert_to_tensor(list(X_test), dtype=np.float32)\n",
    "        if print_size:\n",
    "            print('X_train', X_train.shape)\n",
    "            print('y_train', y_train.shape)\n",
    "            print('X_val', X_val.shape)\n",
    "            print('y_val', y_val.shape)\n",
    "            print('X_test', X_test.shape)\n",
    "            print('y_test', y_test.shape)\n",
    "        return X_train, y_train, X_val, y_val, X_test, y_test\n",
    "\n",
    "    def create_model(self, print_summary=True):    \n",
    "        input_size = Ut8channelsTrainer.LEFT_OFFSET + Ut8channelsTrainer.RIGHT_OFFSET\n",
    "\n",
    "        model = keras.models.Sequential([\n",
    "            keras.layers.Dense(32, input_shape=(input_size,), activation='relu'),\n",
    "            keras.layers.Dense(len(set(Ut8channelsTrainer.LABELS.values())), activation=\"softmax\")\n",
    "        ])\n",
    "\n",
    "        model.compile(\n",
    "            loss='sparse_categorical_crossentropy', # with softmax (e.g. 0, 1, 2, 3, 4...)\n",
    "            # loss=\"binary_crossentropy\", # with sigmoid (e.g. 0 or 1)\n",
    "            optimizer=\"adam\",\n",
    "            metrics=[\"accuracy\"]\n",
    "        )\n",
    "        if print_summary:\n",
    "            model.summary()\n",
    "\n",
    "        return model\n",
    " \n",
    "    def train_model(self, model, X_train, y_train, X_val, y_val, X_test, y_test, epochs, *, name=None):\n",
    "        run_logdir = self.get_run_logdir(name)\n",
    "        tensorboard_cb = keras.callbacks.TensorBoard(run_logdir) # create event files within run_logdir    \n",
    "        history = model.fit(X_train, y_train, epochs=epochs, validation_data=(X_val, y_val), callbacks=[tensorboard_cb])\n",
    "        y_prob = model.predict(X_test)\n",
    "        y_pred = y_prob.argmax(axis=-1)\n",
    "        accuracy = accuracy_score(y_test, y_pred)\n",
    "        print('accuracy = {}'.format(accuracy)) \n",
    "\n",
    "    def predict(self, model, X_test, y_test, save=False):\n",
    "        y_prob = model.predict(X_test) # probabilities\n",
    "        y_pred = y_prob.argmax(axis=-1) # predictions\n",
    "\n",
    "        accuracy = accuracy_score(y_test, y_pred)\n",
    "        f1 = f1_score(y_test, y_pred, average='macro')\n",
    "        print('Accuracy on test set: {}'.format(accuracy))\n",
    "        print('Average F1 score: {}'.format(f1))\n",
    "        disp = ConfusionMatrixDisplay.from_predictions(y_test, y_pred, xticks_rotation='vertical', cmap='Blues', colorbar=False)\n",
    "        plt.suptitle('Confusion Matrix - {}'.format(model))\n",
    "        plt.grid(False)   \n",
    "        if save:\n",
    "            plt.savefig(\"confusion-matrix.png\", dpi=300)\n",
    "        plt.show()\n",
    "\n",
    "    @staticmethod\n",
    "    def get_run_logdir(name=None):    \n",
    "        root_logdir = os.path.join(os.curdir, \"logs\")\n",
    "        run_id = time.strftime(\"run_%Y_%m_%d-%H_%M_%S\") if name is None else name\n",
    "        return os.path.join(root_logdir, run_id)              \n",
    "                    \n"
   ]
  },
  {
   "cell_type": "code",
   "execution_count": 178,
   "metadata": {},
   "outputs": [],
   "source": [
    "data = Ut8channelsTrainer('dataset/')\n",
    "dataset = data.read_process_and_annotate_each_ascan()"
   ]
  },
  {
   "cell_type": "code",
   "execution_count": 179,
   "metadata": {},
   "outputs": [
    {
     "data": {
      "text/html": [
       "<div>\n",
       "<style scoped>\n",
       "    .dataframe tbody tr th:only-of-type {\n",
       "        vertical-align: middle;\n",
       "    }\n",
       "\n",
       "    .dataframe tbody tr th {\n",
       "        vertical-align: top;\n",
       "    }\n",
       "\n",
       "    .dataframe thead th {\n",
       "        text-align: right;\n",
       "    }\n",
       "</style>\n",
       "<table border=\"1\" class=\"dataframe\">\n",
       "  <thead>\n",
       "    <tr style=\"text-align: right;\">\n",
       "      <th></th>\n",
       "      <th>file</th>\n",
       "      <th>sensor</th>\n",
       "      <th>index</th>\n",
       "      <th>ascan</th>\n",
       "      <th>label</th>\n",
       "    </tr>\n",
       "  </thead>\n",
       "  <tbody>\n",
       "    <tr>\n",
       "      <th>0</th>\n",
       "      <td>RET-001-Face2-003.utd</td>\n",
       "      <td>6</td>\n",
       "      <td>36</td>\n",
       "      <td>[0.15, 0.15, 0.16, 0.17, 0.18, 0.16, 0.18, 0.1...</td>\n",
       "      <td>1</td>\n",
       "    </tr>\n",
       "    <tr>\n",
       "      <th>1</th>\n",
       "      <td>RET-001-Face2-003.utd</td>\n",
       "      <td>6</td>\n",
       "      <td>37</td>\n",
       "      <td>[0.22, 0.23, 0.23, 0.23, 0.23, 0.24, 0.22, 0.2...</td>\n",
       "      <td>1</td>\n",
       "    </tr>\n",
       "    <tr>\n",
       "      <th>2</th>\n",
       "      <td>RET-001-Face2-003.utd</td>\n",
       "      <td>6</td>\n",
       "      <td>38</td>\n",
       "      <td>[0.25, 0.24, 0.25, 0.25, 0.24, 0.23, 0.22, 0.2...</td>\n",
       "      <td>1</td>\n",
       "    </tr>\n",
       "    <tr>\n",
       "      <th>3</th>\n",
       "      <td>RET-001-Face2-003.utd</td>\n",
       "      <td>6</td>\n",
       "      <td>39</td>\n",
       "      <td>[0.25, 0.25, 0.24, 0.24, 0.22, 0.22, 0.22, 0.2...</td>\n",
       "      <td>1</td>\n",
       "    </tr>\n",
       "    <tr>\n",
       "      <th>4</th>\n",
       "      <td>RET-001-Face2-003.utd</td>\n",
       "      <td>6</td>\n",
       "      <td>40</td>\n",
       "      <td>[0.25, 0.25, 0.23, 0.23, 0.22, 0.21, 0.21, 0.2...</td>\n",
       "      <td>1</td>\n",
       "    </tr>\n",
       "  </tbody>\n",
       "</table>\n",
       "</div>"
      ],
      "text/plain": [
       "                    file  sensor  index  \\\n",
       "0  RET-001-Face2-003.utd       6     36   \n",
       "1  RET-001-Face2-003.utd       6     37   \n",
       "2  RET-001-Face2-003.utd       6     38   \n",
       "3  RET-001-Face2-003.utd       6     39   \n",
       "4  RET-001-Face2-003.utd       6     40   \n",
       "\n",
       "                                               ascan  label  \n",
       "0  [0.15, 0.15, 0.16, 0.17, 0.18, 0.16, 0.18, 0.1...      1  \n",
       "1  [0.22, 0.23, 0.23, 0.23, 0.23, 0.24, 0.22, 0.2...      1  \n",
       "2  [0.25, 0.24, 0.25, 0.25, 0.24, 0.23, 0.22, 0.2...      1  \n",
       "3  [0.25, 0.25, 0.24, 0.24, 0.22, 0.22, 0.22, 0.2...      1  \n",
       "4  [0.25, 0.25, 0.23, 0.23, 0.22, 0.21, 0.21, 0.2...      1  "
      ]
     },
     "execution_count": 179,
     "metadata": {},
     "output_type": "execute_result"
    }
   ],
   "source": [
    "dataset.head()"
   ]
  },
  {
   "cell_type": "code",
   "execution_count": 180,
   "metadata": {},
   "outputs": [
    {
     "data": {
      "text/plain": [
       "(6321, 5)"
      ]
     },
     "execution_count": 180,
     "metadata": {},
     "output_type": "execute_result"
    }
   ],
   "source": [
    "dataset.shape"
   ]
  },
  {
   "cell_type": "code",
   "execution_count": 181,
   "metadata": {},
   "outputs": [],
   "source": [
    "# dataset.to_csv('dataset.csv')"
   ]
  },
  {
   "attachments": {},
   "cell_type": "markdown",
   "metadata": {},
   "source": [
    "### Visualizing samples of each class"
   ]
  },
  {
   "cell_type": "code",
   "execution_count": 182,
   "metadata": {},
   "outputs": [
    {
     "data": {
      "text/plain": [
       "[<matplotlib.lines.Line2D at 0x7f9c6c9ae8c0>]"
      ]
     },
     "execution_count": 182,
     "metadata": {},
     "output_type": "execute_result"
    },
    {
     "data": {
      "image/png": "[encoded data removed]",
      "text/plain": [
       "<Figure size 640x480 with 1 Axes>"
      ]
     },
     "metadata": {},
     "output_type": "display_data"
    }
   ],
   "source": [
    "plt.plot(dataset['ascan'][0]) # coring"
   ]
  },
  {
   "cell_type": "code",
   "execution_count": 183,
   "metadata": {},
   "outputs": [
    {
     "data": {
      "text/plain": [
       "[<matplotlib.lines.Line2D at 0x7f9c6f8f0130>]"
      ]
     },
     "execution_count": 183,
     "metadata": {},
     "output_type": "execute_result"
    },
    {
     "data": {
      "image/png": "[encoded data removed]",
      "text/plain": [
       "<Figure size 640x480 with 1 Axes>"
      ]
     },
     "metadata": {},
     "output_type": "display_data"
    }
   ],
   "source": [
    "plt.plot(dataset['ascan'][6316]) # no defect"
   ]
  },
  {
   "cell_type": "code",
   "execution_count": 184,
   "metadata": {},
   "outputs": [
    {
     "data": {
      "text/plain": [
       "[<matplotlib.lines.Line2D at 0x7f9c6f750dc0>]"
      ]
     },
     "execution_count": 184,
     "metadata": {},
     "output_type": "execute_result"
    },
    {
     "data": {
      "image/png": "[encoded data removed]",
      "text/plain": [
       "<Figure size 640x480 with 1 Axes>"
      ]
     },
     "metadata": {},
     "output_type": "display_data"
    }
   ],
   "source": [
    "plt.plot(dataset['ascan'][3569]) # recrystallization"
   ]
  },
  {
   "attachments": {},
   "cell_type": "markdown",
   "metadata": {},
   "source": [
    "### Training NN"
   ]
  },
  {
   "cell_type": "code",
   "execution_count": 185,
   "metadata": {},
   "outputs": [
    {
     "data": {
      "text/plain": [
       "0       [0.15, 0.15, 0.16, 0.17, 0.18, 0.16, 0.18, 0.1...\n",
       "1       [0.22, 0.23, 0.23, 0.23, 0.23, 0.24, 0.22, 0.2...\n",
       "2       [0.25, 0.24, 0.25, 0.25, 0.24, 0.23, 0.22, 0.2...\n",
       "3       [0.25, 0.25, 0.24, 0.24, 0.22, 0.22, 0.22, 0.2...\n",
       "4       [0.25, 0.25, 0.23, 0.23, 0.22, 0.21, 0.21, 0.2...\n",
       "                              ...                        \n",
       "6316    [0.22, 0.22, 0.23, 0.22, 0.23, 0.22, 0.22, 0.2...\n",
       "6317    [0.22, 0.23, 0.23, 0.22, 0.22, 0.23, 0.22, 0.2...\n",
       "6318    [0.22, 0.22, 0.23, 0.24, 0.24, 0.24, 0.23, 0.2...\n",
       "6319    [0.22, 0.22, 0.23, 0.24, 0.22, 0.22, 0.22, 0.2...\n",
       "6320    [0.21, 0.21, 0.21, 0.21, 0.21, 0.21, 0.2, 0.2,...\n",
       "Name: ascan, Length: 6321, dtype: object"
      ]
     },
     "execution_count": 185,
     "metadata": {},
     "output_type": "execute_result"
    }
   ],
   "source": [
    "dataset['ascan']"
   ]
  },
  {
   "cell_type": "code",
   "execution_count": 186,
   "metadata": {},
   "outputs": [
    {
     "name": "stdout",
     "output_type": "stream",
     "text": [
      "<class 'pandas.core.series.Series'>\n",
      "<class 'numpy.ndarray'>\n",
      "<class 'numpy.float64'>\n"
     ]
    }
   ],
   "source": [
    "print(type(dataset['ascan']))\n",
    "print(type(dataset['ascan'][0]))\n",
    "print(type(dataset['ascan'][0][0]))\n"
   ]
  },
  {
   "cell_type": "code",
   "execution_count": 187,
   "metadata": {},
   "outputs": [
    {
     "name": "stdout",
     "output_type": "stream",
     "text": [
      "X_train (4044, 500)\n",
      "y_train (4044,)\n",
      "X_val (1012, 500)\n",
      "y_val (1012,)\n",
      "X_test (1265, 500)\n",
      "y_test (1265,)\n"
     ]
    }
   ],
   "source": [
    "X_train, y_train, X_val, y_val, X_test, y_test = data.split_data(dataset, print_size=True)"
   ]
  },
  {
   "cell_type": "code",
   "execution_count": 188,
   "metadata": {},
   "outputs": [
    {
     "name": "stdout",
     "output_type": "stream",
     "text": [
      "Model: \"sequential_10\"\n",
      "_________________________________________________________________\n",
      " Layer (type)                Output Shape              Param #   \n",
      "=================================================================\n",
      " dense_24 (Dense)            (None, 32)                16032     \n",
      "                                                                 \n",
      " dense_25 (Dense)            (None, 3)                 99        \n",
      "                                                                 \n",
      "=================================================================\n",
      "Total params: 16,131\n",
      "Trainable params: 16,131\n",
      "Non-trainable params: 0\n",
      "_________________________________________________________________\n"
     ]
    }
   ],
   "source": [
    "model = data.create_model()"
   ]
  },
  {
   "cell_type": "code",
   "execution_count": 189,
   "metadata": {},
   "outputs": [
    {
     "name": "stdout",
     "output_type": "stream",
     "text": [
      "Epoch 1/100\n",
      "127/127 [==============================] - 0s 1ms/step - loss: 0.4772 - accuracy: 0.8207 - val_loss: 0.3045 - val_accuracy: 0.8735\n",
      "Epoch 2/100\n",
      "127/127 [==============================] - 0s 813us/step - loss: 0.2669 - accuracy: 0.8813 - val_loss: 0.2623 - val_accuracy: 0.8409\n",
      "Epoch 3/100\n",
      "127/127 [==============================] - 0s 800us/step - loss: 0.2317 - accuracy: 0.8927 - val_loss: 0.2334 - val_accuracy: 0.8528\n",
      "Epoch 4/100\n",
      "127/127 [==============================] - 0s 906us/step - loss: 0.2087 - accuracy: 0.9033 - val_loss: 0.1994 - val_accuracy: 0.9130\n",
      "Epoch 5/100\n",
      "127/127 [==============================] - 0s 824us/step - loss: 0.1885 - accuracy: 0.9179 - val_loss: 0.1822 - val_accuracy: 0.9111\n",
      "Epoch 6/100\n",
      "127/127 [==============================] - 0s 832us/step - loss: 0.1698 - accuracy: 0.9313 - val_loss: 0.1677 - val_accuracy: 0.9387\n",
      "Epoch 7/100\n",
      "127/127 [==============================] - 0s 776us/step - loss: 0.1613 - accuracy: 0.9347 - val_loss: 0.1530 - val_accuracy: 0.9417\n",
      "Epoch 8/100\n",
      "127/127 [==============================] - 0s 791us/step - loss: 0.1450 - accuracy: 0.9456 - val_loss: 0.1386 - val_accuracy: 0.9407\n",
      "Epoch 9/100\n",
      "127/127 [==============================] - 0s 821us/step - loss: 0.1286 - accuracy: 0.9543 - val_loss: 0.1283 - val_accuracy: 0.9427\n",
      "Epoch 10/100\n",
      "127/127 [==============================] - 0s 832us/step - loss: 0.1182 - accuracy: 0.9614 - val_loss: 0.1200 - val_accuracy: 0.9634\n",
      "Epoch 11/100\n",
      "127/127 [==============================] - 0s 805us/step - loss: 0.1059 - accuracy: 0.9669 - val_loss: 0.1173 - val_accuracy: 0.9476\n",
      "Epoch 12/100\n",
      "127/127 [==============================] - 0s 824us/step - loss: 0.1026 - accuracy: 0.9651 - val_loss: 0.1015 - val_accuracy: 0.9545\n",
      "Epoch 13/100\n",
      "127/127 [==============================] - 0s 801us/step - loss: 0.0953 - accuracy: 0.9671 - val_loss: 0.0893 - val_accuracy: 0.9664\n",
      "Epoch 14/100\n",
      "127/127 [==============================] - 0s 848us/step - loss: 0.0877 - accuracy: 0.9701 - val_loss: 0.0837 - val_accuracy: 0.9763\n",
      "Epoch 15/100\n",
      "127/127 [==============================] - 0s 816us/step - loss: 0.0804 - accuracy: 0.9735 - val_loss: 0.0864 - val_accuracy: 0.9674\n",
      "Epoch 16/100\n",
      "127/127 [==============================] - 0s 821us/step - loss: 0.0782 - accuracy: 0.9728 - val_loss: 0.0776 - val_accuracy: 0.9783\n",
      "Epoch 17/100\n",
      "127/127 [==============================] - 0s 781us/step - loss: 0.0737 - accuracy: 0.9750 - val_loss: 0.0711 - val_accuracy: 0.9783\n",
      "Epoch 18/100\n",
      "127/127 [==============================] - 0s 780us/step - loss: 0.0740 - accuracy: 0.9733 - val_loss: 0.0824 - val_accuracy: 0.9713\n",
      "Epoch 19/100\n",
      "127/127 [==============================] - 0s 811us/step - loss: 0.0682 - accuracy: 0.9773 - val_loss: 0.0702 - val_accuracy: 0.9743\n",
      "Epoch 20/100\n",
      "127/127 [==============================] - 0s 843us/step - loss: 0.0629 - accuracy: 0.9782 - val_loss: 0.0663 - val_accuracy: 0.9763\n",
      "Epoch 21/100\n",
      "127/127 [==============================] - 0s 829us/step - loss: 0.0625 - accuracy: 0.9795 - val_loss: 0.0610 - val_accuracy: 0.9812\n",
      "Epoch 22/100\n",
      "127/127 [==============================] - 0s 840us/step - loss: 0.0627 - accuracy: 0.9758 - val_loss: 0.0605 - val_accuracy: 0.9802\n",
      "Epoch 23/100\n",
      "127/127 [==============================] - 0s 843us/step - loss: 0.0581 - accuracy: 0.9812 - val_loss: 0.0567 - val_accuracy: 0.9812\n",
      "Epoch 24/100\n",
      "127/127 [==============================] - 0s 819us/step - loss: 0.0534 - accuracy: 0.9832 - val_loss: 0.0558 - val_accuracy: 0.9792\n",
      "Epoch 25/100\n",
      "127/127 [==============================] - 0s 807us/step - loss: 0.0531 - accuracy: 0.9817 - val_loss: 0.0573 - val_accuracy: 0.9792\n",
      "Epoch 26/100\n",
      "127/127 [==============================] - 0s 813us/step - loss: 0.0517 - accuracy: 0.9824 - val_loss: 0.0532 - val_accuracy: 0.9842\n",
      "Epoch 27/100\n",
      "127/127 [==============================] - 0s 831us/step - loss: 0.0536 - accuracy: 0.9810 - val_loss: 0.0506 - val_accuracy: 0.9802\n",
      "Epoch 28/100\n",
      "127/127 [==============================] - 0s 827us/step - loss: 0.0484 - accuracy: 0.9829 - val_loss: 0.0600 - val_accuracy: 0.9802\n",
      "Epoch 29/100\n",
      "127/127 [==============================] - 0s 833us/step - loss: 0.0475 - accuracy: 0.9849 - val_loss: 0.0502 - val_accuracy: 0.9842\n",
      "Epoch 30/100\n",
      "127/127 [==============================] - 0s 832us/step - loss: 0.0449 - accuracy: 0.9844 - val_loss: 0.0474 - val_accuracy: 0.9822\n",
      "Epoch 31/100\n",
      "127/127 [==============================] - 0s 811us/step - loss: 0.0481 - accuracy: 0.9827 - val_loss: 0.0543 - val_accuracy: 0.9802\n",
      "Epoch 32/100\n",
      "127/127 [==============================] - 0s 832us/step - loss: 0.0415 - accuracy: 0.9859 - val_loss: 0.0440 - val_accuracy: 0.9832\n",
      "Epoch 33/100\n",
      "127/127 [==============================] - 0s 795us/step - loss: 0.0424 - accuracy: 0.9847 - val_loss: 0.0464 - val_accuracy: 0.9822\n",
      "Epoch 34/100\n",
      "127/127 [==============================] - 0s 820us/step - loss: 0.0417 - accuracy: 0.9852 - val_loss: 0.0419 - val_accuracy: 0.9862\n",
      "Epoch 35/100\n",
      "127/127 [==============================] - 0s 813us/step - loss: 0.0401 - accuracy: 0.9852 - val_loss: 0.0411 - val_accuracy: 0.9822\n",
      "Epoch 36/100\n",
      "127/127 [==============================] - 0s 824us/step - loss: 0.0402 - accuracy: 0.9864 - val_loss: 0.0416 - val_accuracy: 0.9852\n",
      "Epoch 37/100\n",
      "127/127 [==============================] - 0s 829us/step - loss: 0.0470 - accuracy: 0.9822 - val_loss: 0.0496 - val_accuracy: 0.9802\n",
      "Epoch 38/100\n",
      "127/127 [==============================] - 0s 815us/step - loss: 0.0383 - accuracy: 0.9862 - val_loss: 0.0407 - val_accuracy: 0.9842\n",
      "Epoch 39/100\n",
      "127/127 [==============================] - 0s 812us/step - loss: 0.0365 - accuracy: 0.9876 - val_loss: 0.0393 - val_accuracy: 0.9852\n",
      "Epoch 40/100\n",
      "127/127 [==============================] - 0s 791us/step - loss: 0.0368 - accuracy: 0.9876 - val_loss: 0.0429 - val_accuracy: 0.9862\n",
      "Epoch 41/100\n",
      "127/127 [==============================] - 0s 821us/step - loss: 0.0367 - accuracy: 0.9876 - val_loss: 0.0481 - val_accuracy: 0.9802\n",
      "Epoch 42/100\n",
      "127/127 [==============================] - 0s 842us/step - loss: 0.0340 - accuracy: 0.9884 - val_loss: 0.0374 - val_accuracy: 0.9862\n",
      "Epoch 43/100\n",
      "127/127 [==============================] - 0s 827us/step - loss: 0.0342 - accuracy: 0.9869 - val_loss: 0.0378 - val_accuracy: 0.9862\n",
      "Epoch 44/100\n",
      "127/127 [==============================] - 0s 822us/step - loss: 0.0320 - accuracy: 0.9894 - val_loss: 0.0368 - val_accuracy: 0.9852\n",
      "Epoch 45/100\n",
      "127/127 [==============================] - 0s 833us/step - loss: 0.0322 - accuracy: 0.9879 - val_loss: 0.0364 - val_accuracy: 0.9872\n",
      "Epoch 46/100\n",
      "127/127 [==============================] - 0s 813us/step - loss: 0.0322 - accuracy: 0.9894 - val_loss: 0.0372 - val_accuracy: 0.9842\n",
      "Epoch 47/100\n",
      "127/127 [==============================] - 0s 943us/step - loss: 0.0302 - accuracy: 0.9906 - val_loss: 0.0456 - val_accuracy: 0.9832\n",
      "Epoch 48/100\n",
      "127/127 [==============================] - 0s 873us/step - loss: 0.0306 - accuracy: 0.9899 - val_loss: 0.0415 - val_accuracy: 0.9822\n",
      "Epoch 49/100\n",
      "127/127 [==============================] - 0s 812us/step - loss: 0.0295 - accuracy: 0.9889 - val_loss: 0.0385 - val_accuracy: 0.9822\n",
      "Epoch 50/100\n",
      "127/127 [==============================] - 0s 825us/step - loss: 0.0288 - accuracy: 0.9916 - val_loss: 0.0361 - val_accuracy: 0.9852\n",
      "Epoch 51/100\n",
      "127/127 [==============================] - 0s 842us/step - loss: 0.0294 - accuracy: 0.9889 - val_loss: 0.0319 - val_accuracy: 0.9891\n",
      "Epoch 52/100\n",
      "127/127 [==============================] - 0s 850us/step - loss: 0.0264 - accuracy: 0.9918 - val_loss: 0.0352 - val_accuracy: 0.9891\n",
      "Epoch 53/100\n",
      "127/127 [==============================] - 0s 811us/step - loss: 0.0276 - accuracy: 0.9921 - val_loss: 0.0595 - val_accuracy: 0.9792\n",
      "Epoch 54/100\n",
      "127/127 [==============================] - 0s 808us/step - loss: 0.0349 - accuracy: 0.9864 - val_loss: 0.0338 - val_accuracy: 0.9891\n",
      "Epoch 55/100\n",
      "127/127 [==============================] - 0s 847us/step - loss: 0.0319 - accuracy: 0.9881 - val_loss: 0.0330 - val_accuracy: 0.9881\n",
      "Epoch 56/100\n",
      "127/127 [==============================] - 0s 816us/step - loss: 0.0312 - accuracy: 0.9896 - val_loss: 0.0328 - val_accuracy: 0.9881\n",
      "Epoch 57/100\n",
      "127/127 [==============================] - 0s 836us/step - loss: 0.0262 - accuracy: 0.9894 - val_loss: 0.0327 - val_accuracy: 0.9901\n",
      "Epoch 58/100\n",
      "127/127 [==============================] - 0s 852us/step - loss: 0.0247 - accuracy: 0.9918 - val_loss: 0.0391 - val_accuracy: 0.9822\n",
      "Epoch 59/100\n",
      "127/127 [==============================] - 0s 840us/step - loss: 0.0248 - accuracy: 0.9913 - val_loss: 0.0339 - val_accuracy: 0.9891\n",
      "Epoch 60/100\n",
      "127/127 [==============================] - 0s 823us/step - loss: 0.0246 - accuracy: 0.9926 - val_loss: 0.0300 - val_accuracy: 0.9881\n",
      "Epoch 61/100\n",
      "127/127 [==============================] - 0s 827us/step - loss: 0.0256 - accuracy: 0.9906 - val_loss: 0.0407 - val_accuracy: 0.9822\n",
      "Epoch 62/100\n",
      "127/127 [==============================] - 0s 831us/step - loss: 0.0261 - accuracy: 0.9921 - val_loss: 0.0399 - val_accuracy: 0.9832\n",
      "Epoch 63/100\n",
      "127/127 [==============================] - 0s 811us/step - loss: 0.0239 - accuracy: 0.9923 - val_loss: 0.0525 - val_accuracy: 0.9802\n",
      "Epoch 64/100\n",
      "127/127 [==============================] - 0s 843us/step - loss: 0.0221 - accuracy: 0.9928 - val_loss: 0.0292 - val_accuracy: 0.9891\n",
      "Epoch 65/100\n",
      "127/127 [==============================] - 0s 821us/step - loss: 0.0237 - accuracy: 0.9931 - val_loss: 0.0333 - val_accuracy: 0.9872\n",
      "Epoch 66/100\n",
      "127/127 [==============================] - 0s 808us/step - loss: 0.0218 - accuracy: 0.9936 - val_loss: 0.0385 - val_accuracy: 0.9891\n",
      "Epoch 67/100\n",
      "127/127 [==============================] - 0s 802us/step - loss: 0.0209 - accuracy: 0.9936 - val_loss: 0.0304 - val_accuracy: 0.9891\n",
      "Epoch 68/100\n",
      "127/127 [==============================] - 0s 821us/step - loss: 0.0260 - accuracy: 0.9904 - val_loss: 0.0259 - val_accuracy: 0.9901\n",
      "Epoch 69/100\n",
      "127/127 [==============================] - 0s 796us/step - loss: 0.0226 - accuracy: 0.9918 - val_loss: 0.0339 - val_accuracy: 0.9852\n",
      "Epoch 70/100\n",
      "127/127 [==============================] - 0s 822us/step - loss: 0.0196 - accuracy: 0.9933 - val_loss: 0.0301 - val_accuracy: 0.9891\n",
      "Epoch 71/100\n",
      "127/127 [==============================] - 0s 850us/step - loss: 0.0227 - accuracy: 0.9928 - val_loss: 0.0324 - val_accuracy: 0.9901\n",
      "Epoch 72/100\n",
      "127/127 [==============================] - 0s 832us/step - loss: 0.0201 - accuracy: 0.9941 - val_loss: 0.0257 - val_accuracy: 0.9931\n",
      "Epoch 73/100\n",
      "127/127 [==============================] - 0s 817us/step - loss: 0.0200 - accuracy: 0.9938 - val_loss: 0.0281 - val_accuracy: 0.9911\n",
      "Epoch 74/100\n",
      "127/127 [==============================] - 0s 833us/step - loss: 0.0181 - accuracy: 0.9953 - val_loss: 0.0247 - val_accuracy: 0.9951\n",
      "Epoch 75/100\n",
      "127/127 [==============================] - 0s 842us/step - loss: 0.0181 - accuracy: 0.9946 - val_loss: 0.0287 - val_accuracy: 0.9921\n",
      "Epoch 76/100\n",
      "127/127 [==============================] - 0s 837us/step - loss: 0.0243 - accuracy: 0.9906 - val_loss: 0.0392 - val_accuracy: 0.9832\n",
      "Epoch 77/100\n",
      "127/127 [==============================] - 0s 818us/step - loss: 0.0177 - accuracy: 0.9946 - val_loss: 0.0240 - val_accuracy: 0.9941\n",
      "Epoch 78/100\n",
      "127/127 [==============================] - 0s 824us/step - loss: 0.0179 - accuracy: 0.9941 - val_loss: 0.0246 - val_accuracy: 0.9931\n",
      "Epoch 79/100\n",
      "127/127 [==============================] - 0s 818us/step - loss: 0.0190 - accuracy: 0.9921 - val_loss: 0.0239 - val_accuracy: 0.9901\n",
      "Epoch 80/100\n",
      "127/127 [==============================] - 0s 824us/step - loss: 0.0191 - accuracy: 0.9936 - val_loss: 0.0452 - val_accuracy: 0.9812\n",
      "Epoch 81/100\n",
      "127/127 [==============================] - 0s 848us/step - loss: 0.0178 - accuracy: 0.9951 - val_loss: 0.0259 - val_accuracy: 0.9921\n",
      "Epoch 82/100\n",
      "127/127 [==============================] - 0s 810us/step - loss: 0.0172 - accuracy: 0.9941 - val_loss: 0.0292 - val_accuracy: 0.9862\n",
      "Epoch 83/100\n",
      "127/127 [==============================] - 0s 838us/step - loss: 0.0164 - accuracy: 0.9946 - val_loss: 0.0295 - val_accuracy: 0.9872\n",
      "Epoch 84/100\n",
      "127/127 [==============================] - 0s 815us/step - loss: 0.0158 - accuracy: 0.9958 - val_loss: 0.0303 - val_accuracy: 0.9852\n",
      "Epoch 85/100\n",
      "127/127 [==============================] - 0s 830us/step - loss: 0.0168 - accuracy: 0.9946 - val_loss: 0.0233 - val_accuracy: 0.9951\n",
      "Epoch 86/100\n",
      "127/127 [==============================] - 0s 836us/step - loss: 0.0163 - accuracy: 0.9948 - val_loss: 0.0233 - val_accuracy: 0.9921\n",
      "Epoch 87/100\n",
      "127/127 [==============================] - 0s 810us/step - loss: 0.0155 - accuracy: 0.9955 - val_loss: 0.0251 - val_accuracy: 0.9891\n",
      "Epoch 88/100\n",
      "127/127 [==============================] - 0s 876us/step - loss: 0.0142 - accuracy: 0.9958 - val_loss: 0.0270 - val_accuracy: 0.9872\n",
      "Epoch 89/100\n",
      "127/127 [==============================] - 0s 884us/step - loss: 0.0145 - accuracy: 0.9955 - val_loss: 0.0242 - val_accuracy: 0.9931\n",
      "Epoch 90/100\n",
      "127/127 [==============================] - 0s 893us/step - loss: 0.0142 - accuracy: 0.9960 - val_loss: 0.0233 - val_accuracy: 0.9921\n",
      "Epoch 91/100\n",
      "127/127 [==============================] - 0s 826us/step - loss: 0.0170 - accuracy: 0.9951 - val_loss: 0.0249 - val_accuracy: 0.9901\n",
      "Epoch 92/100\n",
      "127/127 [==============================] - 0s 800us/step - loss: 0.0146 - accuracy: 0.9955 - val_loss: 0.0246 - val_accuracy: 0.9901\n",
      "Epoch 93/100\n",
      "127/127 [==============================] - 0s 927us/step - loss: 0.0138 - accuracy: 0.9958 - val_loss: 0.0226 - val_accuracy: 0.9931\n",
      "Epoch 94/100\n",
      "127/127 [==============================] - 0s 858us/step - loss: 0.0151 - accuracy: 0.9955 - val_loss: 0.0299 - val_accuracy: 0.9881\n",
      "Epoch 95/100\n",
      "127/127 [==============================] - 0s 829us/step - loss: 0.0137 - accuracy: 0.9965 - val_loss: 0.0246 - val_accuracy: 0.9941\n",
      "Epoch 96/100\n",
      "127/127 [==============================] - 0s 836us/step - loss: 0.0150 - accuracy: 0.9948 - val_loss: 0.0241 - val_accuracy: 0.9921\n",
      "Epoch 97/100\n",
      "127/127 [==============================] - 0s 818us/step - loss: 0.0129 - accuracy: 0.9955 - val_loss: 0.0243 - val_accuracy: 0.9911\n",
      "Epoch 98/100\n",
      "127/127 [==============================] - 0s 819us/step - loss: 0.0115 - accuracy: 0.9968 - val_loss: 0.0216 - val_accuracy: 0.9931\n",
      "Epoch 99/100\n",
      "127/127 [==============================] - 0s 863us/step - loss: 0.0139 - accuracy: 0.9955 - val_loss: 0.0263 - val_accuracy: 0.9911\n",
      "Epoch 100/100\n",
      "127/127 [==============================] - 0s 824us/step - loss: 0.0118 - accuracy: 0.9958 - val_loss: 0.0232 - val_accuracy: 0.9931\n",
      "40/40 [==============================] - 0s 539us/step\n",
      "accuracy = 0.9952569169960475\n"
     ]
    }
   ],
   "source": [
    "data.train_model(model, X_train, y_train, X_val, y_val, X_test, y_test, epochs=100, name=None)"
   ]
  },
  {
   "cell_type": "code",
   "execution_count": 190,
   "metadata": {},
   "outputs": [
    {
     "data": {
      "text/plain": [
       "Reusing TensorBoard on port 8888 (pid 50498), started 0:09:24 ago. (Use '!kill 50498' to kill it.)"
      ]
     },
     "metadata": {},
     "output_type": "display_data"
    },
    {
     "data": {
      "text/html": [
       "\n",
       "      <iframe id=\"tensorboard-frame-1b6bd6b288adb34d\" width=\"100%\" height=\"800\" frameborder=\"0\">\n",
       "      </iframe>\n",
       "      <script>\n",
       "        (function() {\n",
       "          const frame = document.getElementById(\"tensorboard-frame-1b6bd6b288adb34d\");\n",
       "          const url = new URL(\"http://localhost\");\n",
       "          const port = 8888;\n",
       "          if (port) {\n",
       "            url.port = port;\n",
       "          }\n",
       "          frame.src = url;\n",
       "        })();\n",
       "      </script>\n",
       "    "
      ],
      "text/plain": [
       "<IPython.core.display.HTML object>"
      ]
     },
     "metadata": {},
     "output_type": "display_data"
    }
   ],
   "source": [
    "%reload_ext tensorboard\n",
    "# %load_ext tensorboard\n",
    "%tensorboard --logdir=./logs --port=8888"
   ]
  },
  {
   "cell_type": "code",
   "execution_count": 191,
   "metadata": {},
   "outputs": [
    {
     "name": "stdout",
     "output_type": "stream",
     "text": [
      "40/40 [==============================] - 0s 442us/step\n",
      "Accuracy on test set: 0.9952569169960475\n",
      "Average F1 score: 0.9915232344108244\n"
     ]
    },
    {
     "data": {
      "image/png": "[encoded data removed]",
      "text/plain": [
       "<Figure size 640x480 with 1 Axes>"
      ]
     },
     "metadata": {},
     "output_type": "display_data"
    }
   ],
   "source": [
    "data.predict(model, X_test, y_test, save=True)"
   ]
  }
 ],
 "metadata": {
  "kernelspec": {
   "display_name": "Python 3.10.6 ('env': venv)",
   "language": "python",
   "name": "python3"
  },
  "language_info": {
   "codemirror_mode": {
    "name": "ipython",
    "version": 3
   },
   "file_extension": ".py",
   "mimetype": "text/x-python",
   "name": "python",
   "nbconvert_exporter": "python",
   "pygments_lexer": "ipython3",
   "version": "3.10.6"
  },
  "orig_nbformat": 4,
  "vscode": {
   "interpreter": {
    "hash": "0c7712ff14667b60b1adf4b69e5ff5d4b253ce7187e1f3ece37a36679d7be741"
   }
  }
 },
 "nbformat": 4,
 "nbformat_minor": 2
}
