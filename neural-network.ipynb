{
 "cells": [
  {
   "cell_type": "code",
   "execution_count": 2,
   "metadata": {},
   "outputs": [
    {
     "name": "stderr",
     "output_type": "stream",
     "text": [
      "2023-01-17 21:17:32.824539: I tensorflow/core/platform/cpu_feature_guard.cc:193] This TensorFlow binary is optimized with oneAPI Deep Neural Network Library (oneDNN) to use the following CPU instructions in performance-critical operations:  AVX2 FMA\n",
      "To enable them in other operations, rebuild TensorFlow with the appropriate compiler flags.\n",
      "2023-01-17 21:17:33.083347: W tensorflow/compiler/xla/stream_executor/platform/default/dso_loader.cc:64] Could not load dynamic library 'libcudart.so.11.0'; dlerror: libcudart.so.11.0: cannot open shared object file: No such file or directory\n",
      "2023-01-17 21:17:33.083369: I tensorflow/compiler/xla/stream_executor/cuda/cudart_stub.cc:29] Ignore above cudart dlerror if you do not have a GPU set up on your machine.\n",
      "2023-01-17 21:17:33.960963: W tensorflow/compiler/xla/stream_executor/platform/default/dso_loader.cc:64] Could not load dynamic library 'libnvinfer.so.7'; dlerror: libnvinfer.so.7: cannot open shared object file: No such file or directory\n",
      "2023-01-17 21:17:33.961040: W tensorflow/compiler/xla/stream_executor/platform/default/dso_loader.cc:64] Could not load dynamic library 'libnvinfer_plugin.so.7'; dlerror: libnvinfer_plugin.so.7: cannot open shared object file: No such file or directory\n",
      "2023-01-17 21:17:33.961047: W tensorflow/compiler/tf2tensorrt/utils/py_utils.cc:38] TF-TRT Warning: Cannot dlopen some TensorRT libraries. If you would like to use Nvidia GPU with TensorRT, please make sure the missing libraries mentioned above are installed properly.\n"
     ]
    }
   ],
   "source": [
    "import pandas as pd\n",
    "import numpy as np\n",
    "import matplotlib.pyplot as plt\n",
    "import scipy\n",
    "from ipywidgets.widgets import interact\n",
    "import os\n",
    "from tensorflow import keras\n",
    "import time\n",
    "from sklearn.model_selection import train_test_split\n",
    "from sklearn.metrics import ConfusionMatrixDisplay, accuracy_score, balanced_accuracy_score, f1_score\n",
    "import tensorflow as tf"
   ]
  },
  {
   "cell_type": "code",
   "execution_count": 322,
   "metadata": {},
   "outputs": [],
   "source": [
    "class Ut8channels:\n",
    "    '''\n",
    "    Class that read unstructured bytes sequence and outputs them in a structured way.\n",
    "    ''' \n",
    "    SENSORS_NUMBER = 8  \n",
    "    HEADER_BYTES = 4\n",
    "    SENSOR_BYTES = 1\n",
    "    CTP_BYTES = 3\n",
    "    ENCODER_BYTES = 3\n",
    "    DATA_BYTES = 1017 # for 1 kB A-scan length\n",
    "    # DATA_BYTES = 2041 # for 2 kB A-scan length\n",
    "    MAX_BYTE_VALUE = 0xFF\n",
    "    MIN_BYTE_VALUE = 0x00\n",
    "\n",
    "    def __init__(self, filename):\n",
    "            self.filename = filename\n",
    "            self._data = self.read_utd()\n",
    "\n",
    "    def read_utd(self):\n",
    "        '''\n",
    "        This function reads the ut raw file and returns a list of lists with a-scans.\n",
    "\n",
    "        '''\n",
    "        data = [[] for _ in range(Ut8channels.SENSORS_NUMBER)]\n",
    "        raw_data = open(self.filename, 'rb')\n",
    "        while True:  \n",
    "            header_bytes = raw_data.read(Ut8channels.HEADER_BYTES)\n",
    "            sensor_bytes = raw_data.read(Ut8channels.SENSOR_BYTES)\n",
    "            ctp_bytes = raw_data.read(Ut8channels.CTP_BYTES) \n",
    "            encoder_bytes = raw_data.read(Ut8channels.ENCODER_BYTES)\n",
    "            data_bytes = raw_data.read(Ut8channels.DATA_BYTES)\n",
    "            data_array = np.frombuffer(data_bytes, dtype = np.uint8) # Interpret a buffer (bytes) as a 1-dimensional array\n",
    "            output_array = (2*((data_array - Ut8channels.MIN_BYTE_VALUE)/\n",
    "                (Ut8channels.MAX_BYTE_VALUE - Ut8channels.MIN_BYTE_VALUE))-1).round(2)# Data normalization [-1, 1]\n",
    "            try:\n",
    "                data[ord(sensor_bytes)].append(output_array) # Get the number that represents the sensor\n",
    "            except:\n",
    "                break\n",
    "\n",
    "        # fill missing values with array of zeros so all sensors have the same number of ascans\n",
    "        max_length = max([len(sensor) for sensor in data]) \n",
    "        fill = [np.zeros(Ut8channels.DATA_BYTES)] * max_length\n",
    "        data = [sensor[:max_length] + fill[len(sensor):] for sensor in data] \n",
    "\n",
    "        df = pd.DataFrame(data).transpose()\n",
    "        df.columns = list(range(1, Ut8channels.SENSORS_NUMBER+1)) # 1 to 8\n",
    "        # df = df.fillna(value=0) doesn't fill with np array --'\n",
    "        return df\n",
    "\n",
    "    @property\n",
    "    def data(self):\n",
    "        return self._data\n",
    "\n",
    "    def find_relevant_peaks(self, ascan, distance=50, prominence=0.2):\n",
    "        peaks, _ = scipy.signal.find_peaks(ascan, distance=distance, prominence=prominence)\n",
    "        return peaks\n",
    "\n",
    "    def plot_ascan(self, sensor, index, show_peaks=False, show_prediction=False, model='model.h5'):\n",
    "        plt.figure(figsize=(6,4), dpi=150)\n",
    "        ascan = self.data[sensor][index]\n",
    "        plt.ylim(-1.2, 1.2)\n",
    "        color = None if any(ascan) else 'red' # if ascan was filled with zeros to equalize numbers of ascans, than it is red\n",
    "        plt.plot(ascan, color=color)\n",
    "        if show_peaks:\n",
    "            peaks = self.find_relevant_peaks(ascan)\n",
    "            plt.scatter(peaks, ascan[peaks], marker=\"x\", color='orange')   \n",
    "        if show_prediction:\n",
    "            prediction = self.predict_single_ascan(model=model, ascan=ascan) # np.int64\n",
    "            predicted_class = Ut8channelsTrainer.DEFECTS[prediction]\n",
    "            plt.text(x=600, y=-1, s=f'Prediction: {predicted_class}', color='r', fontsize=10)  \n",
    "    \n",
    "\n",
    "    def plot_interactive_ascan(self):\n",
    "        @interact(sensor=(1, Ut8channels.SENSORS_NUMBER), index=(0, len(self.data)-1), show_peaks=(0,1), show_prediction=(0,1))\n",
    "        def _plot_interactive_ascan(sensor, index, show_peaks, show_prediction):\n",
    "            self.plot_ascan(sensor=sensor, index=index, show_peaks=show_peaks, show_prediction=show_prediction)\n",
    "\n",
    "    ###################### NEURAL NETWORK PREDICTIONS ######################\n",
    "\n",
    "    def predict_single_ascan(self, model, ascan):\n",
    "        loaded_model = keras.models.load_model(model)\n",
    "        peaks = self.find_relevant_peaks(ascan)\n",
    "        if len(peaks) >= 2: # expected at least 2 peaks: one for water, and another for the material\n",
    "            left_threshold = max(0, peaks[1] - Ut8channelsTrainer.LEFT_OFFSET) # to not allow negative values\n",
    "            right_threshold = min(len(ascan), peaks[1] + Ut8channelsTrainer.RIGHT_OFFSET) # to not allow values > len(ascan)\n",
    "            processed_ascan = ascan[left_threshold:right_threshold] \n",
    "            # return f'Peaks found, len ascan = {len(processed_ascan)}'\n",
    "            # return peaks\n",
    "            processed_ascan = np.array(processed_ascan).reshape(1, -1)\n",
    "            # processed_ascan = tf.convert_to_tensor(processed_ascan, dtype=np.float32)\n",
    "            # return processed_ascan\n",
    "            return loaded_model.predict(processed_ascan, verbose=0).argmax(axis=-1)[0]\n",
    "        return -1 # Ascan without peaks\n"
   ]
  },
  {
   "cell_type": "code",
   "execution_count": 323,
   "metadata": {},
   "outputs": [],
   "source": [
    "ret1_face1_utd1 = Ut8channels('dataset/RET-001/Face1/RET-001-Face1-001.utd')"
   ]
  },
  {
   "cell_type": "code",
   "execution_count": 324,
   "metadata": {},
   "outputs": [],
   "source": [
    "# ret1_face1_utd1.data"
   ]
  },
  {
   "cell_type": "code",
   "execution_count": 325,
   "metadata": {},
   "outputs": [
    {
     "data": {
      "image/png": "[encoded data removed]",
      "text/plain": [
       "<Figure size 900x600 with 1 Axes>"
      ]
     },
     "metadata": {},
     "output_type": "display_data"
    }
   ],
   "source": [
    "ret1_face1_utd1.plot_ascan(sensor=6, index=10, show_peaks=True, show_prediction=True, model='model.h5')"
   ]
  },
  {
   "cell_type": "code",
   "execution_count": 326,
   "metadata": {},
   "outputs": [
    {
     "data": {
      "application/vnd.jupyter.widget-view+json": {
       "model_id": "384dfe1f0f8f4c22958ae66a3da5ec20",
       "version_major": 2,
       "version_minor": 0
      },
      "text/plain": [
       "interactive(children=(IntSlider(value=4, description='sensor', max=8, min=1), IntSlider(value=62, description=…"
      ]
     },
     "metadata": {},
     "output_type": "display_data"
    }
   ],
   "source": [
    "ret1_face1_utd1.plot_interactive_ascan()"
   ]
  },
  {
   "cell_type": "code",
   "execution_count": 208,
   "metadata": {},
   "outputs": [
    {
     "data": {
      "text/html": [
       "<div>\n",
       "<style scoped>\n",
       "    .dataframe tbody tr th:only-of-type {\n",
       "        vertical-align: middle;\n",
       "    }\n",
       "\n",
       "    .dataframe tbody tr th {\n",
       "        vertical-align: top;\n",
       "    }\n",
       "\n",
       "    .dataframe thead th {\n",
       "        text-align: right;\n",
       "    }\n",
       "</style>\n",
       "<table border=\"1\" class=\"dataframe\">\n",
       "  <thead>\n",
       "    <tr style=\"text-align: right;\">\n",
       "      <th></th>\n",
       "      <th>1</th>\n",
       "      <th>2</th>\n",
       "      <th>3</th>\n",
       "      <th>4</th>\n",
       "      <th>5</th>\n",
       "      <th>6</th>\n",
       "      <th>7</th>\n",
       "      <th>8</th>\n",
       "    </tr>\n",
       "  </thead>\n",
       "  <tbody>\n",
       "    <tr>\n",
       "      <th>0</th>\n",
       "      <td>[0.04, 0.04, 0.04, 0.04, 0.04, 0.04, 0.04, 0.0...</td>\n",
       "      <td>[0.04, 0.04, 0.04, 0.04, 0.04, 0.04, 0.04, 0.0...</td>\n",
       "      <td>[0.04, 0.04, 0.04, 0.04, 0.04, 0.04, 0.04, 0.0...</td>\n",
       "      <td>[0.05, 0.04, 0.04, 0.04, 0.04, 0.04, 0.04, 0.0...</td>\n",
       "      <td>[0.04, 0.04, 0.04, 0.04, 0.04, 0.04, 0.04, 0.0...</td>\n",
       "      <td>[0.04, 0.04, 0.04, 0.04, 0.04, 0.04, 0.04, 0.0...</td>\n",
       "      <td>[0.04, 0.04, 0.04, 0.04, 0.04, 0.04, 0.04, 0.0...</td>\n",
       "      <td>[0.04, 0.04, 0.04, 0.04, 0.04, 0.04, 0.04, 0.0...</td>\n",
       "    </tr>\n",
       "    <tr>\n",
       "      <th>1</th>\n",
       "      <td>[0.04, 0.04, 0.04, 0.04, 0.04, 0.04, 0.04, 0.0...</td>\n",
       "      <td>[0.04, 0.04, 0.04, 0.04, 0.04, 0.04, 0.04, 0.0...</td>\n",
       "      <td>[0.04, 0.04, 0.04, 0.04, 0.04, 0.04, 0.04, 0.0...</td>\n",
       "      <td>[0.04, 0.04, 0.04, 0.04, 0.04, 0.04, 0.04, 0.0...</td>\n",
       "      <td>[0.04, 0.04, 0.04, 0.04, 0.04, 0.04, 0.04, 0.0...</td>\n",
       "      <td>[0.04, 0.04, 0.04, 0.04, 0.04, 0.04, 0.04, 0.0...</td>\n",
       "      <td>[0.04, 0.04, 0.04, 0.04, 0.04, 0.04, 0.04, 0.0...</td>\n",
       "      <td>[0.04, 0.04, 0.04, 0.04, 0.04, 0.04, 0.04, 0.0...</td>\n",
       "    </tr>\n",
       "    <tr>\n",
       "      <th>2</th>\n",
       "      <td>[0.04, 0.04, 0.04, 0.04, 0.04, 0.04, 0.04, 0.0...</td>\n",
       "      <td>[0.04, 0.04, 0.04, 0.04, 0.04, 0.04, 0.04, 0.0...</td>\n",
       "      <td>[0.04, 0.04, 0.04, 0.04, 0.04, 0.04, 0.04, 0.0...</td>\n",
       "      <td>[0.04, 0.04, 0.04, 0.04, 0.04, 0.04, 0.04, 0.0...</td>\n",
       "      <td>[0.04, 0.04, 0.04, 0.04, 0.04, 0.04, 0.04, 0.0...</td>\n",
       "      <td>[0.04, 0.04, 0.04, 0.04, 0.04, 0.04, 0.04, 0.0...</td>\n",
       "      <td>[0.04, 0.04, 0.04, 0.04, 0.04, 0.04, 0.04, 0.0...</td>\n",
       "      <td>[0.04, 0.04, 0.04, 0.04, 0.04, 0.04, 0.04, 0.0...</td>\n",
       "    </tr>\n",
       "    <tr>\n",
       "      <th>3</th>\n",
       "      <td>[0.04, 0.04, 0.04, 0.04, 0.04, 0.04, 0.04, 0.0...</td>\n",
       "      <td>[0.04, 0.04, 0.04, 0.04, 0.04, 0.04, 0.04, 0.0...</td>\n",
       "      <td>[0.04, 0.05, 0.04, 0.04, 0.04, 0.04, 0.04, 0.0...</td>\n",
       "      <td>[0.04, 0.04, 0.04, 0.04, 0.04, 0.04, 0.04, 0.0...</td>\n",
       "      <td>[0.04, 0.04, 0.04, 0.04, 0.04, 0.04, 0.04, 0.0...</td>\n",
       "      <td>[0.04, 0.04, 0.04, 0.04, 0.04, 0.04, 0.04, 0.0...</td>\n",
       "      <td>[0.04, 0.05, 0.04, 0.04, 0.04, 0.04, 0.04, 0.0...</td>\n",
       "      <td>[0.04, 0.04, 0.04, 0.04, 0.04, 0.05, 0.04, 0.0...</td>\n",
       "    </tr>\n",
       "    <tr>\n",
       "      <th>4</th>\n",
       "      <td>[0.04, 0.04, 0.04, 0.04, 0.04, 0.04, 0.04, 0.0...</td>\n",
       "      <td>[0.04, 0.04, 0.04, 0.04, 0.04, 0.04, 0.04, 0.0...</td>\n",
       "      <td>[0.04, 0.04, 0.04, 0.04, 0.04, 0.04, 0.04, 0.0...</td>\n",
       "      <td>[0.04, 0.04, 0.04, 0.04, 0.04, 0.04, 0.04, 0.0...</td>\n",
       "      <td>[0.04, 0.04, 0.04, 0.04, 0.04, 0.04, 0.04, 0.0...</td>\n",
       "      <td>[0.04, 0.04, 0.04, 0.04, 0.04, 0.04, 0.04, 0.0...</td>\n",
       "      <td>[0.04, 0.04, 0.04, 0.04, 0.04, 0.04, 0.04, 0.0...</td>\n",
       "      <td>[0.04, 0.04, 0.04, 0.05, 0.04, 0.04, 0.04, 0.0...</td>\n",
       "    </tr>\n",
       "  </tbody>\n",
       "</table>\n",
       "</div>"
      ],
      "text/plain": [
       "                                                   1  \\\n",
       "0  [0.04, 0.04, 0.04, 0.04, 0.04, 0.04, 0.04, 0.0...   \n",
       "1  [0.04, 0.04, 0.04, 0.04, 0.04, 0.04, 0.04, 0.0...   \n",
       "2  [0.04, 0.04, 0.04, 0.04, 0.04, 0.04, 0.04, 0.0...   \n",
       "3  [0.04, 0.04, 0.04, 0.04, 0.04, 0.04, 0.04, 0.0...   \n",
       "4  [0.04, 0.04, 0.04, 0.04, 0.04, 0.04, 0.04, 0.0...   \n",
       "\n",
       "                                                   2  \\\n",
       "0  [0.04, 0.04, 0.04, 0.04, 0.04, 0.04, 0.04, 0.0...   \n",
       "1  [0.04, 0.04, 0.04, 0.04, 0.04, 0.04, 0.04, 0.0...   \n",
       "2  [0.04, 0.04, 0.04, 0.04, 0.04, 0.04, 0.04, 0.0...   \n",
       "3  [0.04, 0.04, 0.04, 0.04, 0.04, 0.04, 0.04, 0.0...   \n",
       "4  [0.04, 0.04, 0.04, 0.04, 0.04, 0.04, 0.04, 0.0...   \n",
       "\n",
       "                                                   3  \\\n",
       "0  [0.04, 0.04, 0.04, 0.04, 0.04, 0.04, 0.04, 0.0...   \n",
       "1  [0.04, 0.04, 0.04, 0.04, 0.04, 0.04, 0.04, 0.0...   \n",
       "2  [0.04, 0.04, 0.04, 0.04, 0.04, 0.04, 0.04, 0.0...   \n",
       "3  [0.04, 0.05, 0.04, 0.04, 0.04, 0.04, 0.04, 0.0...   \n",
       "4  [0.04, 0.04, 0.04, 0.04, 0.04, 0.04, 0.04, 0.0...   \n",
       "\n",
       "                                                   4  \\\n",
       "0  [0.05, 0.04, 0.04, 0.04, 0.04, 0.04, 0.04, 0.0...   \n",
       "1  [0.04, 0.04, 0.04, 0.04, 0.04, 0.04, 0.04, 0.0...   \n",
       "2  [0.04, 0.04, 0.04, 0.04, 0.04, 0.04, 0.04, 0.0...   \n",
       "3  [0.04, 0.04, 0.04, 0.04, 0.04, 0.04, 0.04, 0.0...   \n",
       "4  [0.04, 0.04, 0.04, 0.04, 0.04, 0.04, 0.04, 0.0...   \n",
       "\n",
       "                                                   5  \\\n",
       "0  [0.04, 0.04, 0.04, 0.04, 0.04, 0.04, 0.04, 0.0...   \n",
       "1  [0.04, 0.04, 0.04, 0.04, 0.04, 0.04, 0.04, 0.0...   \n",
       "2  [0.04, 0.04, 0.04, 0.04, 0.04, 0.04, 0.04, 0.0...   \n",
       "3  [0.04, 0.04, 0.04, 0.04, 0.04, 0.04, 0.04, 0.0...   \n",
       "4  [0.04, 0.04, 0.04, 0.04, 0.04, 0.04, 0.04, 0.0...   \n",
       "\n",
       "                                                   6  \\\n",
       "0  [0.04, 0.04, 0.04, 0.04, 0.04, 0.04, 0.04, 0.0...   \n",
       "1  [0.04, 0.04, 0.04, 0.04, 0.04, 0.04, 0.04, 0.0...   \n",
       "2  [0.04, 0.04, 0.04, 0.04, 0.04, 0.04, 0.04, 0.0...   \n",
       "3  [0.04, 0.04, 0.04, 0.04, 0.04, 0.04, 0.04, 0.0...   \n",
       "4  [0.04, 0.04, 0.04, 0.04, 0.04, 0.04, 0.04, 0.0...   \n",
       "\n",
       "                                                   7  \\\n",
       "0  [0.04, 0.04, 0.04, 0.04, 0.04, 0.04, 0.04, 0.0...   \n",
       "1  [0.04, 0.04, 0.04, 0.04, 0.04, 0.04, 0.04, 0.0...   \n",
       "2  [0.04, 0.04, 0.04, 0.04, 0.04, 0.04, 0.04, 0.0...   \n",
       "3  [0.04, 0.05, 0.04, 0.04, 0.04, 0.04, 0.04, 0.0...   \n",
       "4  [0.04, 0.04, 0.04, 0.04, 0.04, 0.04, 0.04, 0.0...   \n",
       "\n",
       "                                                   8  \n",
       "0  [0.04, 0.04, 0.04, 0.04, 0.04, 0.04, 0.04, 0.0...  \n",
       "1  [0.04, 0.04, 0.04, 0.04, 0.04, 0.04, 0.04, 0.0...  \n",
       "2  [0.04, 0.04, 0.04, 0.04, 0.04, 0.04, 0.04, 0.0...  \n",
       "3  [0.04, 0.04, 0.04, 0.04, 0.04, 0.05, 0.04, 0.0...  \n",
       "4  [0.04, 0.04, 0.04, 0.05, 0.04, 0.04, 0.04, 0.0...  "
      ]
     },
     "execution_count": 208,
     "metadata": {},
     "output_type": "execute_result"
    }
   ],
   "source": [
    "ret1_face1_utd1.data.head()"
   ]
  },
  {
   "cell_type": "code",
   "execution_count": 327,
   "metadata": {},
   "outputs": [],
   "source": [
    "ret1_nom_utd1 = Ut8channels('dataset/RET-001/Nomenclatura/RET-001-Nomenclatura-001.utd') # coring (and/or bubble and/or crack)"
   ]
  },
  {
   "cell_type": "code",
   "execution_count": 328,
   "metadata": {},
   "outputs": [
    {
     "data": {
      "application/vnd.jupyter.widget-view+json": {
       "model_id": "05c0215e3fff44e49bb4a85009bf09d4",
       "version_major": 2,
       "version_minor": 0
      },
      "text/plain": [
       "interactive(children=(IntSlider(value=4, description='sensor', max=8, min=1), IntSlider(value=98, description=…"
      ]
     },
     "metadata": {},
     "output_type": "display_data"
    }
   ],
   "source": [
    "ret1_nom_utd1.plot_interactive_ascan()"
   ]
  },
  {
   "cell_type": "code",
   "execution_count": 329,
   "metadata": {},
   "outputs": [],
   "source": [
    "ret10_face1_utd1 = Ut8channels('dataset/RET-010/Face1/RET-010-Face1-001.utd')"
   ]
  },
  {
   "cell_type": "code",
   "execution_count": 330,
   "metadata": {},
   "outputs": [
    {
     "data": {
      "application/vnd.jupyter.widget-view+json": {
       "model_id": "e19241c254cd4feb8ebc73df4bb15d4c",
       "version_major": 2,
       "version_minor": 0
      },
      "text/plain": [
       "interactive(children=(IntSlider(value=4, description='sensor', max=8, min=1), IntSlider(value=62, description=…"
      ]
     },
     "metadata": {},
     "output_type": "display_data"
    }
   ],
   "source": [
    "ret10_face1_utd1.plot_interactive_ascan()"
   ]
  },
  {
   "cell_type": "code",
   "execution_count": 331,
   "metadata": {},
   "outputs": [],
   "source": [
    "ret12_face1_utd1 = Ut8channels('dataset/RET-012/Face1/RET-012-Face1-001.utd')"
   ]
  },
  {
   "cell_type": "code",
   "execution_count": 332,
   "metadata": {},
   "outputs": [
    {
     "data": {
      "application/vnd.jupyter.widget-view+json": {
       "model_id": "eaf8e41de2a74a95a1cb41c23f6c0f0a",
       "version_major": 2,
       "version_minor": 0
      },
      "text/plain": [
       "interactive(children=(IntSlider(value=4, description='sensor', max=8, min=1), IntSlider(value=65, description=…"
      ]
     },
     "metadata": {},
     "output_type": "display_data"
    }
   ],
   "source": [
    "ret12_face1_utd1.plot_interactive_ascan() # recrystallization"
   ]
  },
  {
   "attachments": {},
   "cell_type": "markdown",
   "metadata": {},
   "source": [
    "- iterate over folders\n",
    "- read each file -> UT8channels\n",
    "    - get data of sensor 6\n",
    "    - filter out ascans that don't have peaks\n",
    "    - append to list [filename, sensor, index, ascan, label]\n",
    "- convert list of lists to dataframe\n",
    "- create model\n",
    "- train model\n",
    "- evaluate model"
   ]
  },
  {
   "cell_type": "code",
   "execution_count": 285,
   "metadata": {},
   "outputs": [],
   "source": [
    "class Ut8channelsTrainer:\n",
    "    VALID_SENSOR = 6\n",
    "    LEFT_OFFSET = 100\n",
    "    RIGHT_OFFSET = 400\n",
    "    LABELS = {\n",
    "        'RET-001': 1, # coring and/or bubble and/or crack\n",
    "        'RET-002': 1, # coring and/or bubble and/or crack\n",
    "        'RET-003': 1, # coring and/or bubble and/or crack\n",
    "        'RET-010': 0, # no defect\n",
    "        'RET-011': 2, # recrystallization\n",
    "        'RET-012': 2, # recrystallization\n",
    "    }\n",
    "    DEFECTS = {\n",
    "        -1: 'invalid Ascan',\n",
    "        0: 'no defect',\n",
    "        1: 'coring',\n",
    "        2: 'recrystallization'\n",
    "    }\n",
    "\n",
    "    def __init__(self, dataset_dir):\n",
    "        self.dataset_dir = dataset_dir\n",
    "\n",
    "    def read_process_and_annotate_each_ascan(self, cut_ascan=True):\n",
    "        dataset = []\n",
    "        for root, dirs, files in os.walk(self.dataset_dir):\n",
    "            for file in files:\n",
    "                if file.endswith('utd'): # if it is a valid ascan \n",
    "                    filename = os.path.join(root, file)\n",
    "                    ut = Ut8channels(filename)\n",
    "                    valid_ascans = ut.data[Ut8channelsTrainer.VALID_SENSOR] # get only data of sensor 6\n",
    "                    for index, ascan in enumerate(valid_ascans): # get only ascans that had at least one peak detected\n",
    "                        peaks = ut.find_relevant_peaks(ascan)\n",
    "                        if len(peaks) >= 2: # expected at least 2 peaks: one for water, and another for the material\n",
    "                            if cut_ascan:\n",
    "                                left_threshold = max(0, peaks[1] - Ut8channelsTrainer.LEFT_OFFSET) # to not allow negative values\n",
    "                                right_threshold = min(len(ascan), peaks[1] + Ut8channelsTrainer.RIGHT_OFFSET) # to not allow values > len(ascan)\n",
    "                                ascan = ascan[left_threshold:right_threshold] \n",
    "                            label = Ut8channelsTrainer.LABELS[file[0:7]] # to get the corresponding value for 'RET-xxx'\n",
    "                            dataset.append([file, Ut8channelsTrainer.VALID_SENSOR, index, ascan, label])                            \n",
    "        dataset = pd.DataFrame(dataset)\n",
    "        dataset.columns = ['file', 'sensor', 'index', 'ascan', 'label']\n",
    "        return dataset     \n",
    "\n",
    "    def split_data(self, dataset, val_size=0.2, test_size=0.2, print_size=True):\n",
    "        X = dataset['ascan']\n",
    "        # X = dataset[['ascan']].values # doesn't work\n",
    "        y = dataset['label']\n",
    "        X_train, X_test, y_train, y_test = train_test_split(X, y, test_size=val_size, random_state=42)\n",
    "        X_train, X_val, y_train, y_val = train_test_split(X_train, y_train, test_size=test_size, random_state=42)\n",
    "        X_train = tf.convert_to_tensor(list(X_train), dtype=np.float32)\n",
    "        X_val = tf.convert_to_tensor(list(X_val), dtype=np.float32)\n",
    "        X_test = tf.convert_to_tensor(list(X_test), dtype=np.float32)\n",
    "        if print_size:\n",
    "            print('X_train', X_train.shape)\n",
    "            print('y_train', y_train.shape)\n",
    "            print('X_val', X_val.shape)\n",
    "            print('y_val', y_val.shape)\n",
    "            print('X_test', X_test.shape)\n",
    "            print('y_test', y_test.shape)\n",
    "        return X_train, y_train, X_val, y_val, X_test, y_test\n",
    "\n",
    "    ########################## NEURAL NETWORK MODEL ##########################\n",
    "\n",
    "    def create_model(self, print_summary=True):    \n",
    "        input_size = Ut8channelsTrainer.LEFT_OFFSET + Ut8channelsTrainer.RIGHT_OFFSET\n",
    "\n",
    "        model = keras.models.Sequential([\n",
    "            keras.layers.Dense(32, input_shape=(input_size,), activation='relu'),\n",
    "            keras.layers.Dense(len(set(Ut8channelsTrainer.LABELS.values())), activation=\"softmax\")\n",
    "        ])\n",
    "\n",
    "        model.compile(\n",
    "            loss='sparse_categorical_crossentropy', # with softmax (e.g. 0, or 1, or 2, or 3, or 4...)\n",
    "            # loss=\"binary_crossentropy\", # with sigmoid (e.g. 0 or 1)\n",
    "            optimizer=\"adam\", # rmsprop\n",
    "            metrics=[\"accuracy\"]\n",
    "        )\n",
    "        if print_summary:\n",
    "            model.summary()\n",
    "\n",
    "        return model\n",
    " \n",
    "    def train_model(self, model, X_train, y_train, X_val, y_val, X_test, y_test, epochs, *, name=None):\n",
    "        run_logdir = self.get_run_logdir(name)\n",
    "        tensorboard_cb = keras.callbacks.TensorBoard(run_logdir) # create event files within run_logdir    \n",
    "        history = model.fit(X_train, y_train, epochs=epochs, validation_data=(X_val, y_val), callbacks=[tensorboard_cb])\n",
    "        y_prob = model.predict(X_test)\n",
    "        y_pred = y_prob.argmax(axis=-1)\n",
    "        accuracy = accuracy_score(y_test, y_pred)\n",
    "        print('accuracy = {}'.format(accuracy)) \n",
    "\n",
    "    def evaluate_model(self, model, X_test, y_test, save_confusion_matrix=False):\n",
    "        y_prob = model.predict(X_test) # probabilities\n",
    "        y_pred = y_prob.argmax(axis=-1) # predictions\n",
    "        # accuracy = model.evaluate(X_test, y_test)[1] # [loss, accuracy]\n",
    "        accuracy = accuracy_score(y_test, y_pred)\n",
    "        f1 = f1_score(y_test, y_pred, average='macro')\n",
    "        print('Accuracy on test set: {}'.format(accuracy))\n",
    "        print('Average F1 score: {}'.format(f1))        \n",
    "        disp = ConfusionMatrixDisplay.from_predictions(y_test, y_pred, xticks_rotation='vertical', cmap='Blues', colorbar=False)\n",
    "        plt.suptitle('Confusion Matrix - {}'.format(model))\n",
    "        plt.grid(False)   \n",
    "        if save_confusion_matrix:\n",
    "            plt.savefig(\"confusion-matrix.png\", dpi=300)\n",
    "        plt.show()\n",
    "\n",
    "    def save_model(self, model, name='model'):\n",
    "        name += '.h5'\n",
    "        model.save(name)\n",
    "\n",
    "    def load_model(self, model):\n",
    "        return keras.models.load_model(model)\n",
    "\n",
    "    ########################## AUXILIARY METHODS ##########################\n",
    "\n",
    "    @staticmethod\n",
    "    def get_run_logdir(name=None):    \n",
    "        root_logdir = os.path.join(os.curdir, \"logs\")\n",
    "        run_id = time.strftime(\"run_%Y_%m_%d-%H_%M_%S\") if name is None else name\n",
    "        return os.path.join(root_logdir, run_id)              \n"
   ]
  },
  {
   "cell_type": "code",
   "execution_count": 292,
   "metadata": {},
   "outputs": [
    {
     "data": {
      "text/plain": [
       "'coring'"
      ]
     },
     "execution_count": 292,
     "metadata": {},
     "output_type": "execute_result"
    }
   ],
   "source": [
    "Ut8channelsTrainer.DEFECTS[prediction[0]]"
   ]
  },
  {
   "cell_type": "code",
   "execution_count": 121,
   "metadata": {},
   "outputs": [],
   "source": [
    "data = Ut8channelsTrainer('dataset/')\n",
    "dataset = data.read_process_and_annotate_each_ascan()"
   ]
  },
  {
   "cell_type": "code",
   "execution_count": 122,
   "metadata": {},
   "outputs": [
    {
     "data": {
      "text/html": [
       "<div>\n",
       "<style scoped>\n",
       "    .dataframe tbody tr th:only-of-type {\n",
       "        vertical-align: middle;\n",
       "    }\n",
       "\n",
       "    .dataframe tbody tr th {\n",
       "        vertical-align: top;\n",
       "    }\n",
       "\n",
       "    .dataframe thead th {\n",
       "        text-align: right;\n",
       "    }\n",
       "</style>\n",
       "<table border=\"1\" class=\"dataframe\">\n",
       "  <thead>\n",
       "    <tr style=\"text-align: right;\">\n",
       "      <th></th>\n",
       "      <th>file</th>\n",
       "      <th>sensor</th>\n",
       "      <th>index</th>\n",
       "      <th>ascan</th>\n",
       "      <th>label</th>\n",
       "    </tr>\n",
       "  </thead>\n",
       "  <tbody>\n",
       "    <tr>\n",
       "      <th>0</th>\n",
       "      <td>RET-003-Nomenclatura-003.utd</td>\n",
       "      <td>6</td>\n",
       "      <td>18</td>\n",
       "      <td>[-1.0, -1.0, -1.0, -1.0, -1.0, -0.97, -0.78, -...</td>\n",
       "      <td>1</td>\n",
       "    </tr>\n",
       "    <tr>\n",
       "      <th>1</th>\n",
       "      <td>RET-003-Nomenclatura-003.utd</td>\n",
       "      <td>6</td>\n",
       "      <td>19</td>\n",
       "      <td>[-1.0, -1.0, -1.0, -1.0, -1.0, -1.0, -1.0, -1....</td>\n",
       "      <td>1</td>\n",
       "    </tr>\n",
       "    <tr>\n",
       "      <th>2</th>\n",
       "      <td>RET-003-Nomenclatura-003.utd</td>\n",
       "      <td>6</td>\n",
       "      <td>20</td>\n",
       "      <td>[-1.0, -1.0, -1.0, -1.0, -1.0, -1.0, -1.0, -1....</td>\n",
       "      <td>1</td>\n",
       "    </tr>\n",
       "    <tr>\n",
       "      <th>3</th>\n",
       "      <td>RET-003-Nomenclatura-003.utd</td>\n",
       "      <td>6</td>\n",
       "      <td>21</td>\n",
       "      <td>[-1.0, -1.0, -1.0, -1.0, -1.0, -1.0, -1.0, -1....</td>\n",
       "      <td>1</td>\n",
       "    </tr>\n",
       "    <tr>\n",
       "      <th>4</th>\n",
       "      <td>RET-003-Nomenclatura-003.utd</td>\n",
       "      <td>6</td>\n",
       "      <td>22</td>\n",
       "      <td>[-1.0, -1.0, -1.0, -1.0, -1.0, -1.0, -1.0, -1....</td>\n",
       "      <td>1</td>\n",
       "    </tr>\n",
       "  </tbody>\n",
       "</table>\n",
       "</div>"
      ],
      "text/plain": [
       "                           file  sensor  index  \\\n",
       "0  RET-003-Nomenclatura-003.utd       6     18   \n",
       "1  RET-003-Nomenclatura-003.utd       6     19   \n",
       "2  RET-003-Nomenclatura-003.utd       6     20   \n",
       "3  RET-003-Nomenclatura-003.utd       6     21   \n",
       "4  RET-003-Nomenclatura-003.utd       6     22   \n",
       "\n",
       "                                               ascan  label  \n",
       "0  [-1.0, -1.0, -1.0, -1.0, -1.0, -0.97, -0.78, -...      1  \n",
       "1  [-1.0, -1.0, -1.0, -1.0, -1.0, -1.0, -1.0, -1....      1  \n",
       "2  [-1.0, -1.0, -1.0, -1.0, -1.0, -1.0, -1.0, -1....      1  \n",
       "3  [-1.0, -1.0, -1.0, -1.0, -1.0, -1.0, -1.0, -1....      1  \n",
       "4  [-1.0, -1.0, -1.0, -1.0, -1.0, -1.0, -1.0, -1....      1  "
      ]
     },
     "execution_count": 122,
     "metadata": {},
     "output_type": "execute_result"
    }
   ],
   "source": [
    "dataset.head()"
   ]
  },
  {
   "cell_type": "code",
   "execution_count": 123,
   "metadata": {},
   "outputs": [
    {
     "data": {
      "text/plain": [
       "(6321, 5)"
      ]
     },
     "execution_count": 123,
     "metadata": {},
     "output_type": "execute_result"
    }
   ],
   "source": [
    "dataset.shape"
   ]
  },
  {
   "cell_type": "code",
   "execution_count": 237,
   "metadata": {},
   "outputs": [],
   "source": [
    "frase = 'Coring'"
   ]
  },
  {
   "cell_type": "code",
   "execution_count": 238,
   "metadata": {},
   "outputs": [
    {
     "data": {
      "text/plain": [
       "Text(0.5, 5, 'This is a Coring')"
      ]
     },
     "execution_count": 238,
     "metadata": {},
     "output_type": "execute_result"
    },
    {
     "data": {
      "image/png": "[encoded data removed]",
      "text/plain": [
       "<Figure size 640x480 with 1 Axes>"
      ]
     },
     "metadata": {},
     "output_type": "display_data"
    }
   ],
   "source": [
    "plt.plot([[1,2], [3,4]])\n",
    "plt.text(0.5, 5, f'This is a {frase}', color='r')"
   ]
  },
  {
   "cell_type": "code",
   "execution_count": 142,
   "metadata": {},
   "outputs": [],
   "source": [
    "# dataset.to_csv('dataset.csv')"
   ]
  },
  {
   "attachments": {},
   "cell_type": "markdown",
   "metadata": {},
   "source": [
    "### Visualizing samples of each class"
   ]
  },
  {
   "cell_type": "code",
   "execution_count": 143,
   "metadata": {},
   "outputs": [
    {
     "data": {
      "text/plain": [
       "[<matplotlib.lines.Line2D at 0x7f2138cadfc0>]"
      ]
     },
     "execution_count": 143,
     "metadata": {},
     "output_type": "execute_result"
    },
    {
     "data": {
      "image/png": "[encoded data removed]",
      "text/plain": [
       "<Figure size 640x480 with 1 Axes>"
      ]
     },
     "metadata": {},
     "output_type": "display_data"
    }
   ],
   "source": [
    "plt.plot(dataset['ascan'][0]) # coring"
   ]
  },
  {
   "cell_type": "code",
   "execution_count": 144,
   "metadata": {},
   "outputs": [
    {
     "data": {
      "text/plain": [
       "[<matplotlib.lines.Line2D at 0x7f2138bcc3d0>]"
      ]
     },
     "execution_count": 144,
     "metadata": {},
     "output_type": "execute_result"
    },
    {
     "data": {
      "image/png": "[encoded data removed]",
      "text/plain": [
       "<Figure size 640x480 with 1 Axes>"
      ]
     },
     "metadata": {},
     "output_type": "display_data"
    }
   ],
   "source": [
    "plt.plot(dataset['ascan'][6316]) # no defect"
   ]
  },
  {
   "cell_type": "code",
   "execution_count": 145,
   "metadata": {},
   "outputs": [
    {
     "data": {
      "text/plain": [
       "[<matplotlib.lines.Line2D at 0x7f2138b0f430>]"
      ]
     },
     "execution_count": 145,
     "metadata": {},
     "output_type": "execute_result"
    },
    {
     "data": {
      "image/png": "[encoded data removed]",
      "text/plain": [
       "<Figure size 640x480 with 1 Axes>"
      ]
     },
     "metadata": {},
     "output_type": "display_data"
    }
   ],
   "source": [
    "plt.plot(dataset['ascan'][3569]) # recrystallization"
   ]
  },
  {
   "attachments": {},
   "cell_type": "markdown",
   "metadata": {},
   "source": [
    "### Training NN"
   ]
  },
  {
   "cell_type": "code",
   "execution_count": 146,
   "metadata": {},
   "outputs": [
    {
     "data": {
      "text/plain": [
       "0       [-1.0, -1.0, -1.0, -1.0, -1.0, -0.97, -0.78, -...\n",
       "1       [-1.0, -1.0, -1.0, -1.0, -1.0, -1.0, -1.0, -1....\n",
       "2       [-1.0, -1.0, -1.0, -1.0, -1.0, -1.0, -1.0, -1....\n",
       "3       [-1.0, -1.0, -1.0, -1.0, -1.0, -1.0, -1.0, -1....\n",
       "4       [-1.0, -1.0, -1.0, -1.0, -1.0, -1.0, -1.0, -1....\n",
       "                              ...                        \n",
       "6316    [-1.0, -1.0, -1.0, -0.98, -0.69, -0.27, 0.17, ...\n",
       "6317    [-1.0, -1.0, -1.0, -1.0, -1.0, -1.0, -1.0, -1....\n",
       "6318    [-1.0, -1.0, -1.0, -1.0, -1.0, -1.0, -1.0, -0....\n",
       "6319    [-1.0, -1.0, -1.0, -1.0, -1.0, -1.0, -1.0, -1....\n",
       "6320    [-1.0, -1.0, -1.0, -1.0, -1.0, -0.97, -0.77, -...\n",
       "Name: ascan, Length: 6321, dtype: object"
      ]
     },
     "execution_count": 146,
     "metadata": {},
     "output_type": "execute_result"
    }
   ],
   "source": [
    "dataset['ascan']"
   ]
  },
  {
   "cell_type": "code",
   "execution_count": 147,
   "metadata": {},
   "outputs": [
    {
     "name": "stdout",
     "output_type": "stream",
     "text": [
      "<class 'pandas.core.series.Series'>\n",
      "<class 'numpy.ndarray'>\n",
      "<class 'numpy.float64'>\n"
     ]
    }
   ],
   "source": [
    "print(type(dataset['ascan']))\n",
    "print(type(dataset['ascan'][0]))\n",
    "print(type(dataset['ascan'][0][0]))\n"
   ]
  },
  {
   "cell_type": "code",
   "execution_count": 126,
   "metadata": {},
   "outputs": [
    {
     "name": "stdout",
     "output_type": "stream",
     "text": [
      "X_train (4044, 500)\n",
      "y_train (4044,)\n",
      "X_val (1012, 500)\n",
      "y_val (1012,)\n",
      "X_test (1265, 500)\n",
      "y_test (1265,)\n"
     ]
    }
   ],
   "source": [
    "X_train, y_train, X_val, y_val, X_test, y_test = data.split_data(dataset, print_size=True)"
   ]
  },
  {
   "cell_type": "code",
   "execution_count": 149,
   "metadata": {},
   "outputs": [
    {
     "name": "stdout",
     "output_type": "stream",
     "text": [
      "Model: \"sequential_8\"\n",
      "_________________________________________________________________\n",
      " Layer (type)                Output Shape              Param #   \n",
      "=================================================================\n",
      " dense_16 (Dense)            (None, 32)                16032     \n",
      "                                                                 \n",
      " dense_17 (Dense)            (None, 3)                 99        \n",
      "                                                                 \n",
      "=================================================================\n",
      "Total params: 16,131\n",
      "Trainable params: 16,131\n",
      "Non-trainable params: 0\n",
      "_________________________________________________________________\n"
     ]
    }
   ],
   "source": [
    "model = data.create_model()"
   ]
  },
  {
   "cell_type": "code",
   "execution_count": 150,
   "metadata": {},
   "outputs": [
    {
     "name": "stdout",
     "output_type": "stream",
     "text": [
      "Epoch 1/100\n",
      "127/127 [==============================] - 1s 2ms/step - loss: 0.4187 - accuracy: 0.8415 - val_loss: 0.2764 - val_accuracy: 0.9081\n",
      "Epoch 2/100\n",
      "127/127 [==============================] - 0s 1ms/step - loss: 0.2695 - accuracy: 0.8801 - val_loss: 0.2297 - val_accuracy: 0.9071\n",
      "Epoch 3/100\n",
      "127/127 [==============================] - 0s 1ms/step - loss: 0.2360 - accuracy: 0.8919 - val_loss: 0.2051 - val_accuracy: 0.9121\n",
      "Epoch 4/100\n",
      "127/127 [==============================] - 0s 1ms/step - loss: 0.2153 - accuracy: 0.8964 - val_loss: 0.1890 - val_accuracy: 0.9111\n",
      "Epoch 5/100\n",
      "127/127 [==============================] - 0s 1ms/step - loss: 0.1921 - accuracy: 0.9132 - val_loss: 0.1665 - val_accuracy: 0.9180\n",
      "Epoch 6/100\n",
      "127/127 [==============================] - 0s 1ms/step - loss: 0.1753 - accuracy: 0.9268 - val_loss: 0.1556 - val_accuracy: 0.9575\n",
      "Epoch 7/100\n",
      "127/127 [==============================] - 0s 1ms/step - loss: 0.1559 - accuracy: 0.9387 - val_loss: 0.1383 - val_accuracy: 0.9704\n",
      "Epoch 8/100\n",
      "127/127 [==============================] - 0s 1ms/step - loss: 0.1477 - accuracy: 0.9421 - val_loss: 0.1457 - val_accuracy: 0.9457\n",
      "Epoch 9/100\n",
      "127/127 [==============================] - 0s 1ms/step - loss: 0.1291 - accuracy: 0.9555 - val_loss: 0.1108 - val_accuracy: 0.9536\n",
      "Epoch 10/100\n",
      "127/127 [==============================] - 0s 1ms/step - loss: 0.1179 - accuracy: 0.9590 - val_loss: 0.0939 - val_accuracy: 0.9644\n",
      "Epoch 11/100\n",
      "127/127 [==============================] - 0s 1ms/step - loss: 0.1081 - accuracy: 0.9649 - val_loss: 0.0874 - val_accuracy: 0.9723\n",
      "Epoch 12/100\n",
      "127/127 [==============================] - 0s 1ms/step - loss: 0.0973 - accuracy: 0.9659 - val_loss: 0.0817 - val_accuracy: 0.9773\n",
      "Epoch 13/100\n",
      "127/127 [==============================] - 0s 1ms/step - loss: 0.0930 - accuracy: 0.9654 - val_loss: 0.0788 - val_accuracy: 0.9822\n",
      "Epoch 14/100\n",
      "127/127 [==============================] - 0s 1ms/step - loss: 0.0880 - accuracy: 0.9693 - val_loss: 0.0706 - val_accuracy: 0.9822\n",
      "Epoch 15/100\n",
      "127/127 [==============================] - 0s 1ms/step - loss: 0.0811 - accuracy: 0.9728 - val_loss: 0.0730 - val_accuracy: 0.9743\n",
      "Epoch 16/100\n",
      "127/127 [==============================] - 0s 1ms/step - loss: 0.0780 - accuracy: 0.9748 - val_loss: 0.0628 - val_accuracy: 0.9812\n",
      "Epoch 17/100\n",
      "127/127 [==============================] - 0s 1ms/step - loss: 0.0772 - accuracy: 0.9711 - val_loss: 0.0640 - val_accuracy: 0.9812\n",
      "Epoch 18/100\n",
      "127/127 [==============================] - 0s 1ms/step - loss: 0.0717 - accuracy: 0.9755 - val_loss: 0.0569 - val_accuracy: 0.9832\n",
      "Epoch 19/100\n",
      "127/127 [==============================] - 0s 1ms/step - loss: 0.0643 - accuracy: 0.9787 - val_loss: 0.0529 - val_accuracy: 0.9842\n",
      "Epoch 20/100\n",
      "127/127 [==============================] - 0s 1ms/step - loss: 0.0628 - accuracy: 0.9785 - val_loss: 0.0509 - val_accuracy: 0.9832\n",
      "Epoch 21/100\n",
      "127/127 [==============================] - 0s 1ms/step - loss: 0.0609 - accuracy: 0.9790 - val_loss: 0.0492 - val_accuracy: 0.9832\n",
      "Epoch 22/100\n",
      "127/127 [==============================] - 0s 1ms/step - loss: 0.0570 - accuracy: 0.9817 - val_loss: 0.0520 - val_accuracy: 0.9832\n",
      "Epoch 23/100\n",
      "127/127 [==============================] - 0s 1ms/step - loss: 0.0548 - accuracy: 0.9815 - val_loss: 0.0468 - val_accuracy: 0.9862\n",
      "Epoch 24/100\n",
      "127/127 [==============================] - 0s 1ms/step - loss: 0.0533 - accuracy: 0.9834 - val_loss: 0.0447 - val_accuracy: 0.9872\n",
      "Epoch 25/100\n",
      "127/127 [==============================] - 0s 1ms/step - loss: 0.0548 - accuracy: 0.9797 - val_loss: 0.0474 - val_accuracy: 0.9852\n",
      "Epoch 26/100\n",
      "127/127 [==============================] - 0s 1ms/step - loss: 0.0505 - accuracy: 0.9827 - val_loss: 0.0592 - val_accuracy: 0.9832\n",
      "Epoch 27/100\n",
      "127/127 [==============================] - 0s 1ms/step - loss: 0.0481 - accuracy: 0.9839 - val_loss: 0.0400 - val_accuracy: 0.9881\n",
      "Epoch 28/100\n",
      "127/127 [==============================] - 0s 1ms/step - loss: 0.0463 - accuracy: 0.9834 - val_loss: 0.0393 - val_accuracy: 0.9881\n",
      "Epoch 29/100\n",
      "127/127 [==============================] - 0s 1ms/step - loss: 0.0491 - accuracy: 0.9815 - val_loss: 0.0499 - val_accuracy: 0.9763\n",
      "Epoch 30/100\n",
      "127/127 [==============================] - 0s 1ms/step - loss: 0.0472 - accuracy: 0.9822 - val_loss: 0.0382 - val_accuracy: 0.9852\n",
      "Epoch 31/100\n",
      "127/127 [==============================] - 0s 1ms/step - loss: 0.0423 - accuracy: 0.9842 - val_loss: 0.0348 - val_accuracy: 0.9872\n",
      "Epoch 32/100\n",
      "127/127 [==============================] - 0s 1ms/step - loss: 0.0465 - accuracy: 0.9807 - val_loss: 0.0366 - val_accuracy: 0.9842\n",
      "Epoch 33/100\n",
      "127/127 [==============================] - 0s 1ms/step - loss: 0.0468 - accuracy: 0.9844 - val_loss: 0.0400 - val_accuracy: 0.9891\n",
      "Epoch 34/100\n",
      "127/127 [==============================] - 0s 1ms/step - loss: 0.0413 - accuracy: 0.9859 - val_loss: 0.0352 - val_accuracy: 0.9881\n",
      "Epoch 35/100\n",
      "127/127 [==============================] - 0s 1ms/step - loss: 0.0406 - accuracy: 0.9864 - val_loss: 0.0370 - val_accuracy: 0.9901\n",
      "Epoch 36/100\n",
      "127/127 [==============================] - 0s 1ms/step - loss: 0.0399 - accuracy: 0.9857 - val_loss: 0.0371 - val_accuracy: 0.9891\n",
      "Epoch 37/100\n",
      "127/127 [==============================] - 0s 2ms/step - loss: 0.0432 - accuracy: 0.9842 - val_loss: 0.0328 - val_accuracy: 0.9891\n",
      "Epoch 38/100\n",
      "127/127 [==============================] - 0s 1ms/step - loss: 0.0364 - accuracy: 0.9862 - val_loss: 0.0542 - val_accuracy: 0.9812\n",
      "Epoch 39/100\n",
      "127/127 [==============================] - 0s 1ms/step - loss: 0.0380 - accuracy: 0.9869 - val_loss: 0.0422 - val_accuracy: 0.9852\n",
      "Epoch 40/100\n",
      "127/127 [==============================] - 0s 1ms/step - loss: 0.0378 - accuracy: 0.9849 - val_loss: 0.0503 - val_accuracy: 0.9832\n",
      "Epoch 41/100\n",
      "127/127 [==============================] - 0s 1ms/step - loss: 0.0352 - accuracy: 0.9879 - val_loss: 0.0297 - val_accuracy: 0.9891\n",
      "Epoch 42/100\n",
      "127/127 [==============================] - 0s 1ms/step - loss: 0.0321 - accuracy: 0.9889 - val_loss: 0.0308 - val_accuracy: 0.9881\n",
      "Epoch 43/100\n",
      "127/127 [==============================] - 0s 1ms/step - loss: 0.0334 - accuracy: 0.9871 - val_loss: 0.0289 - val_accuracy: 0.9911\n",
      "Epoch 44/100\n",
      "127/127 [==============================] - 0s 1ms/step - loss: 0.0301 - accuracy: 0.9906 - val_loss: 0.0289 - val_accuracy: 0.9931\n",
      "Epoch 45/100\n",
      "127/127 [==============================] - 0s 1ms/step - loss: 0.0302 - accuracy: 0.9894 - val_loss: 0.0321 - val_accuracy: 0.9891\n",
      "Epoch 46/100\n",
      "127/127 [==============================] - 0s 1ms/step - loss: 0.0303 - accuracy: 0.9886 - val_loss: 0.0303 - val_accuracy: 0.9852\n",
      "Epoch 47/100\n",
      "127/127 [==============================] - 0s 1ms/step - loss: 0.0297 - accuracy: 0.9894 - val_loss: 0.0402 - val_accuracy: 0.9862\n",
      "Epoch 48/100\n",
      "127/127 [==============================] - 0s 1ms/step - loss: 0.0296 - accuracy: 0.9904 - val_loss: 0.0291 - val_accuracy: 0.9911\n",
      "Epoch 49/100\n",
      "127/127 [==============================] - 0s 2ms/step - loss: 0.0279 - accuracy: 0.9904 - val_loss: 0.0248 - val_accuracy: 0.9911\n",
      "Epoch 50/100\n",
      "127/127 [==============================] - 0s 1ms/step - loss: 0.0270 - accuracy: 0.9918 - val_loss: 0.0259 - val_accuracy: 0.9911\n",
      "Epoch 51/100\n",
      "127/127 [==============================] - 0s 1ms/step - loss: 0.0273 - accuracy: 0.9913 - val_loss: 0.0250 - val_accuracy: 0.9921\n",
      "Epoch 52/100\n",
      "127/127 [==============================] - 0s 1ms/step - loss: 0.0272 - accuracy: 0.9918 - val_loss: 0.0336 - val_accuracy: 0.9901\n",
      "Epoch 53/100\n",
      "127/127 [==============================] - 0s 1ms/step - loss: 0.0307 - accuracy: 0.9879 - val_loss: 0.0252 - val_accuracy: 0.9921\n",
      "Epoch 54/100\n",
      "127/127 [==============================] - 0s 1ms/step - loss: 0.0256 - accuracy: 0.9926 - val_loss: 0.0241 - val_accuracy: 0.9921\n",
      "Epoch 55/100\n",
      "127/127 [==============================] - 0s 1ms/step - loss: 0.0269 - accuracy: 0.9901 - val_loss: 0.0233 - val_accuracy: 0.9960\n",
      "Epoch 56/100\n",
      "127/127 [==============================] - 0s 1ms/step - loss: 0.0246 - accuracy: 0.9913 - val_loss: 0.0226 - val_accuracy: 0.9931\n",
      "Epoch 57/100\n",
      "127/127 [==============================] - 0s 1ms/step - loss: 0.0257 - accuracy: 0.9901 - val_loss: 0.0299 - val_accuracy: 0.9842\n",
      "Epoch 58/100\n",
      "127/127 [==============================] - 0s 1ms/step - loss: 0.0238 - accuracy: 0.9926 - val_loss: 0.0249 - val_accuracy: 0.9931\n",
      "Epoch 59/100\n",
      "127/127 [==============================] - 0s 1ms/step - loss: 0.0243 - accuracy: 0.9906 - val_loss: 0.0353 - val_accuracy: 0.9852\n",
      "Epoch 60/100\n",
      "127/127 [==============================] - 0s 1ms/step - loss: 0.0250 - accuracy: 0.9913 - val_loss: 0.0202 - val_accuracy: 0.9941\n",
      "Epoch 61/100\n",
      "127/127 [==============================] - 0s 1ms/step - loss: 0.0227 - accuracy: 0.9923 - val_loss: 0.0393 - val_accuracy: 0.9901\n",
      "Epoch 62/100\n",
      "127/127 [==============================] - 0s 1ms/step - loss: 0.0248 - accuracy: 0.9918 - val_loss: 0.0216 - val_accuracy: 0.9931\n",
      "Epoch 63/100\n",
      "127/127 [==============================] - 0s 1ms/step - loss: 0.0268 - accuracy: 0.9894 - val_loss: 0.0283 - val_accuracy: 0.9931\n",
      "Epoch 64/100\n",
      "127/127 [==============================] - 0s 1ms/step - loss: 0.0240 - accuracy: 0.9911 - val_loss: 0.0212 - val_accuracy: 0.9911\n",
      "Epoch 65/100\n",
      "127/127 [==============================] - 0s 1ms/step - loss: 0.0282 - accuracy: 0.9896 - val_loss: 0.0187 - val_accuracy: 0.9941\n",
      "Epoch 66/100\n",
      "127/127 [==============================] - 0s 1ms/step - loss: 0.0204 - accuracy: 0.9948 - val_loss: 0.0217 - val_accuracy: 0.9881\n",
      "Epoch 67/100\n",
      "127/127 [==============================] - 0s 1ms/step - loss: 0.0199 - accuracy: 0.9951 - val_loss: 0.0186 - val_accuracy: 0.9941\n",
      "Epoch 68/100\n",
      "127/127 [==============================] - 0s 1ms/step - loss: 0.0217 - accuracy: 0.9918 - val_loss: 0.0265 - val_accuracy: 0.9881\n",
      "Epoch 69/100\n",
      "127/127 [==============================] - 0s 1ms/step - loss: 0.0192 - accuracy: 0.9948 - val_loss: 0.0187 - val_accuracy: 0.9951\n",
      "Epoch 70/100\n",
      "127/127 [==============================] - 0s 1ms/step - loss: 0.0191 - accuracy: 0.9936 - val_loss: 0.0194 - val_accuracy: 0.9931\n",
      "Epoch 71/100\n",
      "127/127 [==============================] - 0s 1ms/step - loss: 0.0218 - accuracy: 0.9909 - val_loss: 0.0179 - val_accuracy: 0.9960\n",
      "Epoch 72/100\n",
      "127/127 [==============================] - 0s 1ms/step - loss: 0.0184 - accuracy: 0.9951 - val_loss: 0.0211 - val_accuracy: 0.9931\n",
      "Epoch 73/100\n",
      "127/127 [==============================] - 0s 1ms/step - loss: 0.0170 - accuracy: 0.9963 - val_loss: 0.0173 - val_accuracy: 0.9931\n",
      "Epoch 74/100\n",
      "127/127 [==============================] - 0s 1ms/step - loss: 0.0225 - accuracy: 0.9911 - val_loss: 0.0207 - val_accuracy: 0.9901\n",
      "Epoch 75/100\n",
      "127/127 [==============================] - 0s 1ms/step - loss: 0.0211 - accuracy: 0.9916 - val_loss: 0.0194 - val_accuracy: 0.9911\n",
      "Epoch 76/100\n",
      "127/127 [==============================] - 0s 1ms/step - loss: 0.0201 - accuracy: 0.9933 - val_loss: 0.0180 - val_accuracy: 0.9931\n",
      "Epoch 77/100\n",
      "127/127 [==============================] - 0s 1ms/step - loss: 0.0186 - accuracy: 0.9933 - val_loss: 0.0200 - val_accuracy: 0.9911\n",
      "Epoch 78/100\n",
      "127/127 [==============================] - 0s 1ms/step - loss: 0.0195 - accuracy: 0.9931 - val_loss: 0.0169 - val_accuracy: 0.9941\n",
      "Epoch 79/100\n",
      "127/127 [==============================] - 0s 1ms/step - loss: 0.0144 - accuracy: 0.9963 - val_loss: 0.0183 - val_accuracy: 0.9921\n",
      "Epoch 80/100\n",
      "127/127 [==============================] - 0s 1ms/step - loss: 0.0166 - accuracy: 0.9948 - val_loss: 0.0181 - val_accuracy: 0.9960\n",
      "Epoch 81/100\n",
      "127/127 [==============================] - 0s 1ms/step - loss: 0.0163 - accuracy: 0.9955 - val_loss: 0.0168 - val_accuracy: 0.9921\n",
      "Epoch 82/100\n",
      "127/127 [==============================] - 0s 1ms/step - loss: 0.0160 - accuracy: 0.9953 - val_loss: 0.0181 - val_accuracy: 0.9941\n",
      "Epoch 83/100\n",
      "127/127 [==============================] - 0s 1ms/step - loss: 0.0148 - accuracy: 0.9958 - val_loss: 0.0234 - val_accuracy: 0.9921\n",
      "Epoch 84/100\n",
      "127/127 [==============================] - 0s 1ms/step - loss: 0.0153 - accuracy: 0.9955 - val_loss: 0.0143 - val_accuracy: 0.9951\n",
      "Epoch 85/100\n",
      "127/127 [==============================] - 0s 1ms/step - loss: 0.0164 - accuracy: 0.9958 - val_loss: 0.0157 - val_accuracy: 0.9931\n",
      "Epoch 86/100\n",
      "127/127 [==============================] - 0s 1ms/step - loss: 0.0159 - accuracy: 0.9958 - val_loss: 0.0188 - val_accuracy: 0.9921\n",
      "Epoch 87/100\n",
      "127/127 [==============================] - 0s 1ms/step - loss: 0.0146 - accuracy: 0.9958 - val_loss: 0.0172 - val_accuracy: 0.9921\n",
      "Epoch 88/100\n",
      "127/127 [==============================] - 0s 1ms/step - loss: 0.0154 - accuracy: 0.9953 - val_loss: 0.0162 - val_accuracy: 0.9931\n",
      "Epoch 89/100\n",
      "127/127 [==============================] - 0s 1ms/step - loss: 0.0158 - accuracy: 0.9948 - val_loss: 0.0150 - val_accuracy: 0.9960\n",
      "Epoch 90/100\n",
      "127/127 [==============================] - 0s 1ms/step - loss: 0.0142 - accuracy: 0.9965 - val_loss: 0.0160 - val_accuracy: 0.9941\n",
      "Epoch 91/100\n",
      "127/127 [==============================] - 0s 1ms/step - loss: 0.0150 - accuracy: 0.9955 - val_loss: 0.0188 - val_accuracy: 0.9921\n",
      "Epoch 92/100\n",
      "127/127 [==============================] - 0s 1ms/step - loss: 0.0221 - accuracy: 0.9911 - val_loss: 0.0157 - val_accuracy: 0.9951\n",
      "Epoch 93/100\n",
      "127/127 [==============================] - 0s 1ms/step - loss: 0.0136 - accuracy: 0.9970 - val_loss: 0.0142 - val_accuracy: 0.9970\n",
      "Epoch 94/100\n",
      "127/127 [==============================] - 0s 1ms/step - loss: 0.0143 - accuracy: 0.9963 - val_loss: 0.0125 - val_accuracy: 0.9951\n",
      "Epoch 95/100\n",
      "127/127 [==============================] - 0s 1ms/step - loss: 0.0133 - accuracy: 0.9968 - val_loss: 0.0179 - val_accuracy: 0.9960\n",
      "Epoch 96/100\n",
      "127/127 [==============================] - 0s 1ms/step - loss: 0.0141 - accuracy: 0.9955 - val_loss: 0.0164 - val_accuracy: 0.9951\n",
      "Epoch 97/100\n",
      "127/127 [==============================] - 0s 1ms/step - loss: 0.0139 - accuracy: 0.9965 - val_loss: 0.0151 - val_accuracy: 0.9951\n",
      "Epoch 98/100\n",
      "127/127 [==============================] - 0s 1ms/step - loss: 0.0118 - accuracy: 0.9968 - val_loss: 0.0140 - val_accuracy: 0.9941\n",
      "Epoch 99/100\n",
      "127/127 [==============================] - 0s 1ms/step - loss: 0.0103 - accuracy: 0.9980 - val_loss: 0.0145 - val_accuracy: 0.9951\n",
      "Epoch 100/100\n",
      "127/127 [==============================] - 0s 1ms/step - loss: 0.0189 - accuracy: 0.9928 - val_loss: 0.0138 - val_accuracy: 0.9960\n",
      "40/40 [==============================] - 0s 892us/step\n",
      "accuracy = 0.9952569169960475\n"
     ]
    }
   ],
   "source": [
    "data.train_model(model, X_train, y_train, X_val, y_val, X_test, y_test, epochs=100, name=None)"
   ]
  },
  {
   "cell_type": "code",
   "execution_count": 151,
   "metadata": {},
   "outputs": [
    {
     "data": {
      "text/plain": [
       "Reusing TensorBoard on port 8888 (pid 23269), started 0:50:34 ago. (Use '!kill 23269' to kill it.)"
      ]
     },
     "metadata": {},
     "output_type": "display_data"
    },
    {
     "data": {
      "text/html": [
       "\n",
       "      <iframe id=\"tensorboard-frame-a0d167e5efe82b26\" width=\"100%\" height=\"800\" frameborder=\"0\">\n",
       "      </iframe>\n",
       "      <script>\n",
       "        (function() {\n",
       "          const frame = document.getElementById(\"tensorboard-frame-a0d167e5efe82b26\");\n",
       "          const url = new URL(\"http://localhost\");\n",
       "          const port = 8888;\n",
       "          if (port) {\n",
       "            url.port = port;\n",
       "          }\n",
       "          frame.src = url;\n",
       "        })();\n",
       "      </script>\n",
       "    "
      ],
      "text/plain": [
       "<IPython.core.display.HTML object>"
      ]
     },
     "metadata": {},
     "output_type": "display_data"
    }
   ],
   "source": [
    "%reload_ext tensorboard\n",
    "# %load_ext tensorboard\n",
    "%tensorboard --logdir=./logs --port=8888"
   ]
  },
  {
   "cell_type": "code",
   "execution_count": 152,
   "metadata": {},
   "outputs": [
    {
     "name": "stdout",
     "output_type": "stream",
     "text": [
      "40/40 [==============================] - 0s 790us/step\n",
      "Accuracy on test set: 0.9952569169960475\n",
      "Average F1 score: 0.9920321574686007\n"
     ]
    },
    {
     "data": {
      "image/png": "[encoded data removed]",
      "text/plain": [
       "<Figure size 640x480 with 1 Axes>"
      ]
     },
     "metadata": {},
     "output_type": "display_data"
    }
   ],
   "source": [
    "data.evaluate_model(model, X_test, y_test)"
   ]
  },
  {
   "cell_type": "code",
   "execution_count": 154,
   "metadata": {},
   "outputs": [],
   "source": [
    "# data.save_model(model)"
   ]
  },
  {
   "cell_type": "code",
   "execution_count": 124,
   "metadata": {},
   "outputs": [],
   "source": [
    "loaded_model = data.load_model('model.h5')"
   ]
  },
  {
   "cell_type": "code",
   "execution_count": 127,
   "metadata": {},
   "outputs": [
    {
     "name": "stderr",
     "output_type": "stream",
     "text": [
      "/tmp/ipykernel_7586/1192502718.py:2: FutureWarning: The behavior of `series[i:j]` with an integer-dtype index is deprecated. In a future version, this will be treated as *label-based* indexing, consistent with e.g. `series[i]` lookups. To retain the old behavior, use `series.iloc[i:j]`. To get the future behavior, use `series.loc[i:j]`.\n",
      "  some_data_y = y_test[0:10]\n"
     ]
    }
   ],
   "source": [
    "some_data_x = X_test[0:10]\n",
    "some_data_y = y_test[0:10]"
   ]
  },
  {
   "cell_type": "code",
   "execution_count": 137,
   "metadata": {},
   "outputs": [
    {
     "data": {
      "text/plain": [
       "<tf.Tensor: shape=(2, 500), dtype=float32, numpy=\n",
       "array([[ 0.23,  0.22,  0.23,  0.22,  0.22,  0.21,  0.2 ,  0.2 ,  0.18,\n",
       "         0.18,  0.18,  0.18,  0.17,  0.16,  0.16,  0.15,  0.15,  0.14,\n",
       "         0.13,  0.12,  0.11,  0.11,  0.11,  0.1 ,  0.1 ,  0.08,  0.08,\n",
       "         0.08,  0.07,  0.07,  0.07,  0.05,  0.05,  0.05,  0.05,  0.04,\n",
       "         0.04,  0.04,  0.04,  0.05,  0.05,  0.05,  0.05,  0.05,  0.05,\n",
       "         0.05,  0.06,  0.07,  0.06,  0.07,  0.06,  0.06,  0.05,  0.05,\n",
       "         0.04,  0.04,  0.04,  0.03,  0.02,  0.02,  0.03,  0.04,  0.07,\n",
       "         0.11,  0.16,  0.22,  0.27,  0.32,  0.35,  0.36,  0.35,  0.3 ,\n",
       "         0.25,  0.16,  0.07, -0.04, -0.17, -0.29, -0.4 , -0.52, -0.62,\n",
       "        -0.72, -0.78, -0.82, -0.83, -0.8 , -0.75, -0.65, -0.54, -0.4 ,\n",
       "        -0.25, -0.11,  0.04,  0.17,  0.29,  0.38,  0.47,  0.53,  0.58,\n",
       "         0.62,  0.62,  0.62,  0.61,  0.57,  0.52,  0.47,  0.4 ,  0.35,\n",
       "         0.29,  0.22,  0.18,  0.12,  0.08,  0.04,  0.02, -0.  , -0.03,\n",
       "        -0.04, -0.06, -0.07, -0.09, -0.1 , -0.11, -0.12, -0.11, -0.12,\n",
       "        -0.11, -0.1 , -0.09, -0.07, -0.07, -0.06, -0.04, -0.03, -0.02,\n",
       "        -0.01,  0.  ,  0.  ,  0.01,  0.01,  0.02,  0.03,  0.03,  0.02,\n",
       "         0.04,  0.03,  0.02,  0.02,  0.01,  0.02,  0.02,  0.02,  0.01,\n",
       "         0.01,  0.01,  0.02,  0.02,  0.01,  0.01,  0.01,  0.02,  0.01,\n",
       "         0.01,  0.01,  0.02,  0.01,  0.03,  0.03,  0.03,  0.03,  0.04,\n",
       "         0.04,  0.05,  0.04,  0.05,  0.05,  0.05,  0.05,  0.05,  0.06,\n",
       "         0.05,  0.05,  0.05,  0.06,  0.05,  0.06,  0.06,  0.05,  0.06,\n",
       "         0.05,  0.06,  0.05,  0.05,  0.04,  0.05,  0.04,  0.03,  0.03,\n",
       "         0.03,  0.02,  0.02,  0.01,  0.  ,  0.  ,  0.  ,  0.  ,  0.  ,\n",
       "         0.01,  0.03,  0.05,  0.08,  0.11,  0.16,  0.21,  0.24,  0.26,\n",
       "         0.28,  0.27,  0.24,  0.22,  0.16,  0.1 ,  0.03, -0.06, -0.14,\n",
       "        -0.22, -0.29, -0.36, -0.43, -0.48, -0.5 , -0.51, -0.5 , -0.46,\n",
       "        -0.4 , -0.32, -0.22, -0.12, -0.01,  0.08,  0.18,  0.25,  0.33,\n",
       "         0.37,  0.43,  0.46,  0.47,  0.49,  0.48,  0.46,  0.42,  0.38,\n",
       "         0.34,  0.28,  0.22,  0.17,  0.11,  0.07,  0.04, -0.  , -0.04,\n",
       "        -0.04, -0.07, -0.08, -0.09, -0.09, -0.09, -0.08, -0.07, -0.07,\n",
       "        -0.07, -0.06, -0.04, -0.04, -0.02, -0.01,  0.  ,  0.01,  0.02,\n",
       "         0.03,  0.04,  0.04,  0.05,  0.05,  0.06,  0.07,  0.06,  0.07,\n",
       "         0.07,  0.07,  0.05,  0.05,  0.04,  0.04,  0.03,  0.02,  0.02,\n",
       "         0.01,  0.  ,  0.01,  0.  ,  0.  , -0.  , -0.  ,  0.  , -0.  ,\n",
       "        -0.  ,  0.  ,  0.  ,  0.01,  0.02,  0.02,  0.04,  0.04,  0.06,\n",
       "         0.06,  0.07,  0.07,  0.08,  0.09,  0.1 ,  0.1 ,  0.11,  0.11,\n",
       "         0.11,  0.11,  0.1 ,  0.11,  0.11,  0.1 ,  0.09,  0.08,  0.07,\n",
       "         0.06,  0.05,  0.04,  0.04,  0.02,  0.02,  0.01,  0.  ,  0.  ,\n",
       "         0.  , -0.01, -0.  ,  0.  ,  0.  ,  0.  ,  0.  ,  0.01,  0.01,\n",
       "         0.02,  0.03,  0.03,  0.04,  0.05,  0.05,  0.07,  0.1 ,  0.13,\n",
       "         0.15,  0.18,  0.19,  0.2 ,  0.19,  0.18,  0.16,  0.13,  0.09,\n",
       "         0.05,  0.  , -0.05, -0.11, -0.15, -0.2 , -0.25, -0.29, -0.29,\n",
       "        -0.3 , -0.29, -0.26, -0.22, -0.16, -0.1 , -0.04,  0.03,  0.09,\n",
       "         0.15,  0.21,  0.24,  0.28,  0.3 ,  0.32,  0.32,  0.32,  0.3 ,\n",
       "         0.27,  0.25,  0.21,  0.16,  0.12,  0.08,  0.04,  0.  , -0.03,\n",
       "        -0.04, -0.06, -0.07, -0.07, -0.07, -0.05, -0.05, -0.04, -0.04,\n",
       "        -0.02, -0.01,  0.  ,  0.  ,  0.01,  0.02,  0.04,  0.04,  0.05,\n",
       "         0.05,  0.05,  0.05,  0.06,  0.05,  0.05,  0.06,  0.06,  0.07,\n",
       "         0.06,  0.05,  0.05,  0.05,  0.06,  0.05,  0.04,  0.04,  0.04,\n",
       "         0.04,  0.02,  0.02,  0.  ,  0.01,  0.01,  0.  , -0.  ,  0.  ,\n",
       "        -0.  , -0.  , -0.  ,  0.  ,  0.  ,  0.  ,  0.01,  0.01,  0.02,\n",
       "         0.03,  0.05,  0.05,  0.06,  0.07,  0.08,  0.09,  0.1 ,  0.11,\n",
       "         0.11,  0.11,  0.12,  0.11,  0.11,  0.11,  0.11,  0.1 ,  0.1 ,\n",
       "         0.1 ,  0.08,  0.07,  0.07,  0.05,  0.04,  0.03,  0.03,  0.03,\n",
       "         0.02,  0.02,  0.02,  0.02,  0.03,  0.02,  0.02,  0.02,  0.01,\n",
       "         0.02,  0.02,  0.02,  0.02,  0.02],\n",
       "       [-1.  , -1.  , -1.  , -1.  , -1.  , -1.  , -1.  , -1.  , -0.82,\n",
       "        -0.62, -0.45, -0.29, -0.15, -0.04,  0.05,  0.15,  0.23,  0.3 ,\n",
       "         0.36,  0.43,  0.48,  0.52,  0.55,  0.56,  0.57,  0.58,  0.55,\n",
       "         0.52,  0.49,  0.44,  0.4 ,  0.35,  0.32,  0.28,  0.24,  0.21,\n",
       "         0.18,  0.15,  0.13,  0.1 ,  0.11,  0.09,  0.09,  0.1 ,  0.1 ,\n",
       "         0.11,  0.12,  0.13,  0.15,  0.17,  0.17,  0.18,  0.19,  0.19,\n",
       "         0.2 ,  0.21,  0.2 ,  0.2 ,  0.18,  0.18,  0.19,  0.18,  0.19,\n",
       "         0.22,  0.26,  0.33,  0.4 ,  0.47,  0.55,  0.61,  0.65,  0.65,\n",
       "         0.61,  0.53,  0.41,  0.27,  0.11, -0.07, -0.25, -0.44, -0.58,\n",
       "        -0.73, -0.85, -0.94, -0.98, -0.98, -0.95, -0.86, -0.73, -0.57,\n",
       "        -0.39, -0.2 , -0.01,  0.16,  0.32,  0.45,  0.55,  0.62,  0.68,\n",
       "         0.7 ,  0.71,  0.7 ,  0.68,  0.65,  0.59,  0.54,  0.47,  0.4 ,\n",
       "         0.35,  0.29,  0.22,  0.16,  0.11,  0.07,  0.04,  0.  , -0.02,\n",
       "        -0.04, -0.07, -0.07, -0.1 , -0.11, -0.12, -0.12, -0.13, -0.12,\n",
       "        -0.12, -0.11, -0.11, -0.09, -0.08, -0.07, -0.06, -0.04, -0.04,\n",
       "        -0.04, -0.04, -0.03, -0.04, -0.04, -0.03, -0.01, -0.01, -0.01,\n",
       "        -0.  , -0.  ,  0.  ,  0.  ,  0.  ,  0.01,  0.  ,  0.01,  0.01,\n",
       "         0.02,  0.02,  0.02,  0.01,  0.02,  0.01,  0.01,  0.01,  0.01,\n",
       "         0.02,  0.03,  0.05,  0.08,  0.14,  0.18,  0.24,  0.29,  0.35,\n",
       "         0.36,  0.37,  0.36,  0.3 ,  0.22,  0.15,  0.04, -0.08, -0.21,\n",
       "        -0.33, -0.44, -0.54, -0.62, -0.69, -0.71, -0.72, -0.69, -0.65,\n",
       "        -0.57, -0.45, -0.33, -0.21, -0.07,  0.05,  0.16,  0.25,  0.33,\n",
       "         0.4 ,  0.44,  0.46,  0.47,  0.47,  0.46,  0.44,  0.4 ,  0.37,\n",
       "         0.33,  0.29,  0.25,  0.2 ,  0.16,  0.13,  0.09,  0.07,  0.04,\n",
       "         0.02,  0.  , -0.01, -0.03, -0.05, -0.07, -0.09, -0.11, -0.12,\n",
       "        -0.13, -0.13, -0.14, -0.15, -0.14, -0.13, -0.12, -0.11, -0.09,\n",
       "        -0.07, -0.06, -0.04, -0.03, -0.02, -0.  ,  0.  ,  0.02,  0.03,\n",
       "         0.04,  0.04,  0.05,  0.06,  0.07,  0.07,  0.07,  0.08,  0.08,\n",
       "         0.08,  0.08,  0.09,  0.09,  0.09,  0.09,  0.1 ,  0.08,  0.08,\n",
       "         0.08,  0.08,  0.07,  0.07,  0.09,  0.11,  0.13,  0.16,  0.21,\n",
       "         0.24,  0.26,  0.29,  0.29,  0.29,  0.27,  0.22,  0.17,  0.1 ,\n",
       "         0.02, -0.07, -0.15, -0.23, -0.29, -0.36, -0.41, -0.44, -0.45,\n",
       "        -0.44, -0.4 , -0.36, -0.29, -0.21, -0.12, -0.03,  0.07,  0.13,\n",
       "         0.21,  0.25,  0.29,  0.32,  0.34,  0.34,  0.35,  0.33,  0.3 ,\n",
       "         0.29,  0.25,  0.22,  0.19,  0.15,  0.13,  0.09,  0.07,  0.04,\n",
       "         0.02, -0.  , -0.01, -0.03, -0.04, -0.05, -0.06, -0.07, -0.07,\n",
       "        -0.08, -0.09, -0.09, -0.08, -0.08, -0.08, -0.07, -0.07, -0.07,\n",
       "        -0.07, -0.05, -0.04, -0.04, -0.03, -0.02, -0.01,  0.  ,  0.  ,\n",
       "         0.02,  0.03,  0.04,  0.04,  0.05,  0.07,  0.07,  0.07,  0.07,\n",
       "         0.08,  0.1 ,  0.1 ,  0.11,  0.12,  0.12,  0.13,  0.12,  0.13,\n",
       "         0.13,  0.13,  0.13,  0.11,  0.11,  0.11,  0.11,  0.11,  0.11,\n",
       "         0.13,  0.15,  0.15,  0.18,  0.19,  0.18,  0.18,  0.16,  0.15,\n",
       "         0.11,  0.07,  0.04, -0.02, -0.06, -0.11, -0.15, -0.19, -0.22,\n",
       "        -0.23, -0.25, -0.23, -0.22, -0.19, -0.15, -0.11, -0.04,  0.01,\n",
       "         0.07,  0.11,  0.15,  0.18,  0.22,  0.23,  0.24,  0.25,  0.24,\n",
       "         0.22,  0.22,  0.18,  0.17,  0.14,  0.11,  0.07,  0.05,  0.04,\n",
       "         0.01, -0.01, -0.03, -0.04, -0.04, -0.04, -0.05, -0.04, -0.05,\n",
       "        -0.05, -0.05, -0.04, -0.04, -0.04, -0.04, -0.04, -0.04, -0.04,\n",
       "        -0.04, -0.04, -0.03, -0.03, -0.04, -0.04, -0.03, -0.04, -0.03,\n",
       "        -0.03, -0.03, -0.01, -0.01, -0.  ,  0.  ,  0.01,  0.03,  0.04,\n",
       "         0.05,  0.05,  0.08,  0.09,  0.11,  0.11,  0.12,  0.13,  0.14,\n",
       "         0.15,  0.15,  0.15,  0.15,  0.13,  0.12,  0.11,  0.1 ,  0.1 ,\n",
       "         0.09,  0.09,  0.09,  0.09,  0.1 ,  0.11,  0.11,  0.12,  0.11,\n",
       "         0.11,  0.11,  0.09,  0.07,  0.04,  0.02, -0.  , -0.04, -0.06,\n",
       "        -0.09, -0.11, -0.12, -0.12, -0.12, -0.1 , -0.08, -0.05, -0.01,\n",
       "         0.03,  0.06,  0.11,  0.13,  0.16]], dtype=float32)>"
      ]
     },
     "execution_count": 137,
     "metadata": {},
     "output_type": "execute_result"
    }
   ],
   "source": [
    "some_data_x[0:2]"
   ]
  },
  {
   "cell_type": "code",
   "execution_count": 135,
   "metadata": {},
   "outputs": [
    {
     "data": {
      "text/plain": [
       "tensorflow.python.framework.ops.EagerTensor"
      ]
     },
     "execution_count": 135,
     "metadata": {},
     "output_type": "execute_result"
    }
   ],
   "source": [
    "type(some_data_x[0:1])"
   ]
  },
  {
   "cell_type": "code",
   "execution_count": 134,
   "metadata": {},
   "outputs": [
    {
     "name": "stdout",
     "output_type": "stream",
     "text": [
      "1/1 [==============================] - 0s 14ms/step\n"
     ]
    },
    {
     "data": {
      "text/plain": [
       "array([1])"
      ]
     },
     "execution_count": 134,
     "metadata": {},
     "output_type": "execute_result"
    }
   ],
   "source": [
    "loaded_model.predict(some_data_x[0:1]).argmax(axis=-1)"
   ]
  },
  {
   "cell_type": "code",
   "execution_count": null,
   "metadata": {},
   "outputs": [],
   "source": []
  }
 ],
 "metadata": {
  "kernelspec": {
   "display_name": "ut-env",
   "language": "python",
   "name": "python3"
  },
  "language_info": {
   "codemirror_mode": {
    "name": "ipython",
    "version": 3
   },
   "file_extension": ".py",
   "mimetype": "text/x-python",
   "name": "python",
   "nbconvert_exporter": "python",
   "pygments_lexer": "ipython3",
   "version": "3.10.6"
  },
  "orig_nbformat": 4,
  "vscode": {
   "interpreter": {
    "hash": "74d601fa943fa9e1573084c584eaa83142f6aebd04777deb61ecb334cf57d297"
   }
  }
 },
 "nbformat": 4,
 "nbformat_minor": 2
}
