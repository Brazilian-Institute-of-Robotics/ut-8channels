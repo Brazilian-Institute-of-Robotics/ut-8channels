{
 "cells": [
  {
   "cell_type": "code",
   "execution_count": 1,
   "metadata": {},
   "outputs": [],
   "source": [
    "import pandas as pd\n",
    "import numpy as np\n",
    "import matplotlib.pyplot as plt\n",
    "import scipy\n",
    "from ipywidgets.widgets import interact"
   ]
  },
  {
   "cell_type": "code",
   "execution_count": 2,
   "metadata": {},
   "outputs": [],
   "source": [
    "class Ut8channels:\n",
    "    '''\n",
    "    Class that read unstructured bytes sequence and outputs them in a structured way.\n",
    "    ''' \n",
    "    SENSORS_NUMBER = 8  \n",
    "    HEADER_BYTES = 4\n",
    "    SENSOR_BYTES = 1\n",
    "    CTP_BYTES = 3\n",
    "    ENCODER_BYTES = 3\n",
    "    DATA_BYTES = 1017 # for 1 kB A-scan length\n",
    "    # DATA_BYTES = 2041 # for 2 kB A-scan length\n",
    "    MAX_BYTE_VALUE = 0xFF\n",
    "    MIN_BYTE_VALUE = 0x00\n",
    "\n",
    "    def __init__(self, filename):\n",
    "            self.filename = filename\n",
    "            self._data = self.read_utd()\n",
    "\n",
    "    def read_utd(self):\n",
    "        '''\n",
    "        This function reads the ut raw file and returns a list of lists with a-scans.\n",
    "\n",
    "        '''\n",
    "        data = [[] for _ in range(Ut8channels.SENSORS_NUMBER)]\n",
    "        raw_data = open(self.filename, 'rb')\n",
    "        while True:  \n",
    "            header_bytes = raw_data.read(Ut8channels.HEADER_BYTES)\n",
    "            sensor_bytes = raw_data.read(Ut8channels.SENSOR_BYTES)\n",
    "            ctp_bytes = raw_data.read(Ut8channels.CTP_BYTES) \n",
    "            encoder_bytes = raw_data.read(Ut8channels.ENCODER_BYTES)\n",
    "            data_bytes = raw_data.read(Ut8channels.DATA_BYTES)\n",
    "            data_array = np.frombuffer(data_bytes, dtype = np.uint8) # Interpret a buffer (bytes) as a 1-dimensional array\n",
    "            output_array = (2*((data_array - Ut8channels.MIN_BYTE_VALUE)/\n",
    "                (Ut8channels.MAX_BYTE_VALUE - Ut8channels.MIN_BYTE_VALUE))-1).round(2) # Data normalization [-1, 1]\n",
    "            try:\n",
    "                data[ord(sensor_bytes)].append(output_array) # Get the number that represents the sensor\n",
    "            except:\n",
    "                break\n",
    "\n",
    "        # fill missing values with array of zeros so all sensors have the same number of ascans\n",
    "        max_length = max([len(sensor) for sensor in data]) \n",
    "        fill = [np.zeros(Ut8channels.DATA_BYTES)] * max_length\n",
    "        data = [sensor[:max_length] + fill[len(sensor):] for sensor in data] \n",
    "\n",
    "        df = pd.DataFrame(data).transpose()\n",
    "        df.columns = list(range(1, Ut8channels.SENSORS_NUMBER+1)) # 1 to 8\n",
    "        # df = df.fillna(value=0) doesn't fill with np array --'\n",
    "        return df\n",
    "\n",
    "    @property\n",
    "    def data(self):\n",
    "        return self._data\n",
    "\n",
    "    def plot_ascan(self, sensor, index, show_peaks=False):\n",
    "        plt.figure(figsize=(6,4), dpi=150)\n",
    "        ascan = self.data[sensor][index]\n",
    "        plt.ylim(-1.2, 1.2)\n",
    "        color = None if any(ascan) else 'red' # if ascan was filled with zeros to equalize numbers of ascans, than it is red\n",
    "        plt.plot(ascan, color=color)\n",
    "        if show_peaks:\n",
    "            peaks, _ = scipy.signal.find_peaks(ascan, distance=50, prominence=0.2)\n",
    "            plt.scatter(peaks, ascan[peaks], marker=\"x\", color='orange')    \n",
    "\n",
    "    def plot_interactive_ascan(self):\n",
    "        @interact(sensor=(1, Ut8channels.SENSORS_NUMBER), index=(0, len(self.data)-1), show_peaks=(0,1))\n",
    "        def _plot_interactive_ascan(sensor, index, show_peaks):\n",
    "            self.plot_ascan(sensor=sensor, index=index, show_peaks=show_peaks)"
   ]
  },
  {
   "cell_type": "code",
   "execution_count": 3,
   "metadata": {},
   "outputs": [],
   "source": [
    "ut = Ut8channels('dataset/RET-001/Face1/RET-001-Face1-001.utd')"
   ]
  },
  {
   "cell_type": "code",
   "execution_count": 4,
   "metadata": {},
   "outputs": [],
   "source": [
    "# ut.data"
   ]
  },
  {
   "cell_type": "code",
   "execution_count": 5,
   "metadata": {},
   "outputs": [],
   "source": [
    "# ut.plot_ascan(sensor=6, index=62, show_peaks=True)"
   ]
  },
  {
   "cell_type": "code",
   "execution_count": 6,
   "metadata": {},
   "outputs": [
    {
     "data": {
      "application/vnd.jupyter.widget-view+json": {
       "model_id": "2ac3f2faef9b4de2871af001c35f14a0",
       "version_major": 2,
       "version_minor": 0
      },
      "text/plain": [
       "interactive(children=(IntSlider(value=4, description='sensor', max=8, min=1), IntSlider(value=62, description=…"
      ]
     },
     "metadata": {},
     "output_type": "display_data"
    }
   ],
   "source": [
    "ut.plot_interactive_ascan()"
   ]
  },
  {
   "cell_type": "code",
   "execution_count": null,
   "metadata": {},
   "outputs": [],
   "source": []
  }
 ],
 "metadata": {
  "kernelspec": {
   "display_name": "Python 3.10.6 ('env': venv)",
   "language": "python",
   "name": "python3"
  },
  "language_info": {
   "codemirror_mode": {
    "name": "ipython",
    "version": 3
   },
   "file_extension": ".py",
   "mimetype": "text/x-python",
   "name": "python",
   "nbconvert_exporter": "python",
   "pygments_lexer": "ipython3",
   "version": "3.10.6"
  },
  "orig_nbformat": 4,
  "vscode": {
   "interpreter": {
    "hash": "0c7712ff14667b60b1adf4b69e5ff5d4b253ce7187e1f3ece37a36679d7be741"
   }
  }
 },
 "nbformat": 4,
 "nbformat_minor": 2
}
